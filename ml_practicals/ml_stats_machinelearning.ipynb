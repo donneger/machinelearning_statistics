{
 "cells": [
  {
   "cell_type": "markdown",
   "metadata": {},
   "source": [
    "# Notebook on Machine Learning"
   ]
  },
  {
   "cell_type": "code",
   "execution_count": 1,
   "metadata": {},
   "outputs": [],
   "source": [
    "import numpy as np\n",
    "\n"
   ]
  },
  {
   "cell_type": "markdown",
   "metadata": {},
   "source": [
    "## Basic Neuron Diagram"
   ]
  },
  {
   "cell_type": "markdown",
   "metadata": {},
   "source": [
    "![Basic Neuron](./images/neurons.png)"
   ]
  },
  {
   "cell_type": "markdown",
   "metadata": {},
   "source": [
    "### Single Input Neuron\n",
    "\n"
   ]
  },
  {
   "cell_type": "markdown",
   "metadata": {},
   "source": [
    "![Single Neuron](./images/single_neuron.png)"
   ]
  },
  {
   "cell_type": "markdown",
   "metadata": {},
   "source": [
    "Take a single input x1 and generate an output based on that x1.\n",
    "\n",
    "Very similar to the standard formula of \n",
    "$$ y = mx+c\n",
    "\n",
    "Phi(x) = x identity activation function\n",
    "\n",
    "Phi(x1w1 + w0) = x1w1 + w0"
   ]
  },
  {
   "cell_type": "markdown",
   "metadata": {},
   "source": [
    "### Using NP arrays to simplify the code.\n",
    "#### Basic Approach for simple neuron function.\n",
    "- Need an array of x values. These are the inputs, floating points.\n",
    "- Note that in the x array x[0]must be = 1 per the neuron diagram. \n",
    "- Need an array of w values of same size as x. This has all of the weights values. \n",
    "- We want the weights to change based on the x inputs and resulting y values (training data) so that the w values can mimic what could be the underlying relationship between x and y. \n",
    "- need an identity function."
   ]
  },
  {
   "cell_type": "code",
   "execution_count": 2,
   "metadata": {},
   "outputs": [],
   "source": [
    "def identity(x):\n",
    "    return x"
   ]
  },
  {
   "cell_type": "code",
   "execution_count": 3,
   "metadata": {},
   "outputs": [],
   "source": [
    "# Trying out basic neuron code\n",
    "def fire_neuron(x, w, phi):\n",
    "    return phi(np.sum(x*w))"
   ]
  },
  {
   "cell_type": "code",
   "execution_count": 4,
   "metadata": {},
   "outputs": [
    {
     "data": {
      "text/plain": [
       "16.5"
      ]
     },
     "execution_count": 4,
     "metadata": {},
     "output_type": "execute_result"
    }
   ],
   "source": [
    "x = np.array([1.0, 4.0])\n",
    "w = np.array([2.5, 3.5])\n",
    "# In this example x0 is 1 and w0 is 2. x1 is 4 and w1 is 3. \n",
    "# In the function summing 4*3 + 1*2 = 14\n",
    "fire_neuron(x,w,identity)\n"
   ]
  },
  {
   "cell_type": "markdown",
   "metadata": {},
   "source": [
    "### Supervised Learning\n",
    "#### Training Data Sets. \n",
    "\n",
    "In the real world we will have inputs and outputs and we are trying to find the relationship between the two to train the neural network, i.e we want to get the network to learn the relationship between the two and find the value of w that best matches that real relationship. "
   ]
  },
  {
   "cell_type": "code",
   "execution_count": 5,
   "metadata": {},
   "outputs": [],
   "source": [
    "import matplotlib.pyplot as plt"
   ]
  },
  {
   "cell_type": "code",
   "execution_count": 6,
   "metadata": {},
   "outputs": [
    {
     "data": {
      "text/plain": [
       "array([ 1,  2,  3,  4,  5,  6,  7,  8,  9, 10])"
      ]
     },
     "execution_count": 6,
     "metadata": {},
     "output_type": "execute_result"
    }
   ],
   "source": [
    "x_data = np.arange(1,11,1)\n",
    "x_data"
   ]
  },
  {
   "cell_type": "code",
   "execution_count": 7,
   "metadata": {},
   "outputs": [
    {
     "data": {
      "text/plain": [
       "array([ 2.49989298,  5.29900911,  9.32995301,  9.94184086, 13.33596045,\n",
       "       16.81680865, 18.10065578, 17.52196936, 22.56573655, 25.22182192])"
      ]
     },
     "execution_count": 7,
     "metadata": {},
     "output_type": "execute_result"
    }
   ],
   "source": [
    "y_data = 2.5 * x_data + np.random.normal(0,1,len(x_data))\n",
    "y_data"
   ]
  },
  {
   "cell_type": "code",
   "execution_count": 8,
   "metadata": {},
   "outputs": [
    {
     "data": {
      "text/plain": [
       "[<matplotlib.lines.Line2D at 0x20587bb8550>]"
      ]
     },
     "execution_count": 8,
     "metadata": {},
     "output_type": "execute_result"
    },
    {
     "data": {
      "image/png": "[encoded data removed]",
      "text/plain": [
       "<Figure size 432x288 with 1 Axes>"
      ]
     },
     "metadata": {
      "needs_background": "light"
     },
     "output_type": "display_data"
    }
   ],
   "source": [
    "plt.plot(x_data, y_data, 'b.')"
   ]
  },
  {
   "cell_type": "code",
   "execution_count": 9,
   "metadata": {},
   "outputs": [
    {
     "data": {
      "text/plain": [
       "(4, 9.941840859308385)"
      ]
     },
     "execution_count": 9,
     "metadata": {},
     "output_type": "execute_result"
    }
   ],
   "source": [
    "i = [3]\n",
    "x_data[3], y_data[3]"
   ]
  },
  {
   "cell_type": "code",
   "execution_count": 10,
   "metadata": {},
   "outputs": [
    {
     "data": {
      "text/plain": [
       "8.0"
      ]
     },
     "execution_count": 10,
     "metadata": {},
     "output_type": "execute_result"
    }
   ],
   "source": [
    "w = np.array([0.0, 2.0])\n",
    "\n",
    "fire_neuron(np.array([1.0, x_data[3]]), w, identity)"
   ]
  },
  {
   "cell_type": "markdown",
   "metadata": {},
   "source": [
    "## Cost - how do we get to a cost function for our neural network"
   ]
  },
  {
   "cell_type": "markdown",
   "metadata": {},
   "source": [
    "## Keras and Tensorflow\n"
   ]
  },
  {
   "cell_type": "code",
   "execution_count": 11,
   "metadata": {},
   "outputs": [],
   "source": [
    "import numpy as np\n",
    "# Bring in keras\n",
    "import tensorflow.keras as keras\n",
    "import matplotlib.pyplot as plt"
   ]
  },
  {
   "cell_type": "code",
   "execution_count": 12,
   "metadata": {},
   "outputs": [],
   "source": [
    "# Create a model that represent a model of a neural network\n",
    "model = keras.Sequential()"
   ]
  },
  {
   "cell_type": "code",
   "execution_count": 13,
   "metadata": {},
   "outputs": [],
   "source": [
    "# This is a single layer with 64 neurons, relu activation function.\n",
    "model.add(keras.layers.Dense(units=64, activation ='relu'))"
   ]
  },
  {
   "cell_type": "code",
   "execution_count": 14,
   "metadata": {},
   "outputs": [],
   "source": [
    "# Add another layer with 10 neurons. \n",
    "# Dense indicates that every neuron in this layer is connected to every neuron in the 64 layer. 640 connections with 640 weights.\n",
    "# Extra layers can be added bu using 'add'.\n",
    "model.add(keras.layers.Dense(units = 10 , activation ='softmax'))"
   ]
  },
  {
   "cell_type": "code",
   "execution_count": 15,
   "metadata": {},
   "outputs": [],
   "source": [
    "# Compile the neural network, ie build and package it for use. \n",
    "model.compile(loss='categorical_crossentropy',\n",
    "              optimizer='sgd',\n",
    "              metrics=['accuracy'])"
   ]
  },
  {
   "cell_type": "code",
   "execution_count": 16,
   "metadata": {},
   "outputs": [],
   "source": [
    "# Create test data\n",
    "x_train = np.random.normal(0.0, 1.0, (100,64))\n",
    "y_train = np.random.normal(0.5,1.0, (100,10))\n",
    "#(x_train, y_train), (x_test, y_test) = keras.datasets.mnist.load_data()"
   ]
  },
  {
   "cell_type": "code",
   "execution_count": 17,
   "metadata": {},
   "outputs": [
    {
     "name": "stdout",
     "output_type": "stream",
     "text": [
      "Epoch 1/5\n",
      "4/4 [==============================] - 0s 5ms/step - loss: 14.4205 - accuracy: 0.1600\n",
      "Epoch 2/5\n",
      "4/4 [==============================] - 0s 6ms/step - loss: 14.1270 - accuracy: 0.1700\n",
      "Epoch 3/5\n",
      "4/4 [==============================] - 0s 2ms/step - loss: 13.9009 - accuracy: 0.1800\n",
      "Epoch 4/5\n",
      "4/4 [==============================] - 0s 3ms/step - loss: 13.6456 - accuracy: 0.1900\n",
      "Epoch 5/5\n",
      "4/4 [==============================] - 0s 2ms/step - loss: 13.4484 - accuracy: 0.1900\n"
     ]
    },
    {
     "data": {
      "text/plain": [
       "<tensorflow.python.keras.callbacks.History at 0x2058f93bb20>"
      ]
     },
     "execution_count": 17,
     "metadata": {},
     "output_type": "execute_result"
    }
   ],
   "source": [
    "# Training data x_train and y_train are Numpy arrays. Epochs is number of times to go through the training dataset. Batch Size is the number of data points \n",
    "# presented at one time.\n",
    "model.fit(x_train, y_train, epochs=5, batch_size=32)"
   ]
  },
  {
   "cell_type": "code",
   "execution_count": 18,
   "metadata": {},
   "outputs": [],
   "source": [
    "x_test = np.random.normal(0.0, 1.0, (10,64))\n",
    "y_test = np.random.normal(0.5,1.0, (10,10))"
   ]
  },
  {
   "cell_type": "code",
   "execution_count": 19,
   "metadata": {},
   "outputs": [
    {
     "name": "stdout",
     "output_type": "stream",
     "text": [
      "1/1 [==============================] - 0s 2ms/step - loss: 17.3463 - accuracy: 0.1000\n"
     ]
    }
   ],
   "source": [
    "# Evaluate the network\n",
    "loss_and_metrics = model.evaluate(x_test, y_test, batch_size=128)"
   ]
  },
  {
   "cell_type": "code",
   "execution_count": 20,
   "metadata": {},
   "outputs": [
    {
     "data": {
      "text/plain": [
       "array([[0.2565709 , 0.03582838, 0.05008106, 0.07388317, 0.04714168,\n",
       "        0.10103169, 0.05365006, 0.2635705 , 0.07453487, 0.04370777],\n",
       "       [0.04289347, 0.03748175, 0.08587328, 0.09338007, 0.02487151,\n",
       "        0.0628815 , 0.4675259 , 0.13696674, 0.02608594, 0.02203985],\n",
       "       [0.10905629, 0.09683694, 0.20033498, 0.24467565, 0.02741325,\n",
       "        0.00837772, 0.092175  , 0.07083672, 0.07881215, 0.07148132],\n",
       "       [0.13763875, 0.02699281, 0.09559952, 0.07233166, 0.10215912,\n",
       "        0.03862049, 0.13951649, 0.25416112, 0.09516303, 0.03781695],\n",
       "       [0.42326686, 0.07358015, 0.02591648, 0.07561065, 0.0076278 ,\n",
       "        0.14708397, 0.08930316, 0.07575482, 0.04823721, 0.03361905],\n",
       "       [0.4538922 , 0.01025626, 0.03377149, 0.04890194, 0.12795065,\n",
       "        0.05216287, 0.10224959, 0.06765776, 0.07613485, 0.02702232],\n",
       "       [0.41608334, 0.01350593, 0.04724945, 0.03475601, 0.03406481,\n",
       "        0.07323056, 0.22612855, 0.04131161, 0.09947722, 0.0141925 ],\n",
       "       [0.43982595, 0.02761005, 0.06657182, 0.12317141, 0.02605192,\n",
       "        0.02854244, 0.10867192, 0.13519505, 0.03803417, 0.00632513],\n",
       "       [0.06500354, 0.01857288, 0.17978446, 0.11606512, 0.01773122,\n",
       "        0.03152911, 0.09882711, 0.21583258, 0.22287032, 0.0337836 ],\n",
       "       [0.08016448, 0.04058685, 0.04022834, 0.16328232, 0.02261966,\n",
       "        0.04174345, 0.18691137, 0.05190684, 0.33958572, 0.03297095]],\n",
       "      dtype=float32)"
      ]
     },
     "execution_count": 20,
     "metadata": {},
     "output_type": "execute_result"
    }
   ],
   "source": [
    "# Predictions on the test set. \n",
    "classes = model.predict(x_test, batch_size=128)\n",
    "classes"
   ]
  },
  {
   "cell_type": "markdown",
   "metadata": {},
   "source": [
    "### Single Neuron in keras"
   ]
  },
  {
   "cell_type": "code",
   "execution_count": 21,
   "metadata": {},
   "outputs": [],
   "source": [
    "import numpy as np\n",
    "# Bring in keras\n",
    "import tensorflow.keras as keras"
   ]
  },
  {
   "cell_type": "code",
   "execution_count": 22,
   "metadata": {},
   "outputs": [],
   "source": [
    "model = keras.Sequential()"
   ]
  },
  {
   "cell_type": "code",
   "execution_count": 23,
   "metadata": {},
   "outputs": [],
   "source": [
    "# Setting a new model with just 1 neuron. No activation function applied.\n",
    "# In general the activation function actas as a gate between the input of a neuron and the output going to the neuron in the next layer. \n",
    "# Most common is Relu, (Rectified Liner Unit), if input is negative returns 0, if positive returns back the input. \n",
    "model.add(keras.layers.Dense(units=1))"
   ]
  },
  {
   "cell_type": "code",
   "execution_count": 24,
   "metadata": {},
   "outputs": [],
   "source": [
    "# Compile the neural network, ie build and package it for use. \n",
    "# The loss = mse, is the square of the differenctes between the predicted values of y and the true values, loss = square(y_true = y_pred)\n",
    "# Optimizer of the method of adjusting the weights to get closer to the desited output.\n",
    "model.compile(loss='mean_squared_error',\n",
    "              optimizer='sgd',\n",
    "              metrics=['accuracy'])"
   ]
  },
  {
   "cell_type": "code",
   "execution_count": 25,
   "metadata": {},
   "outputs": [],
   "source": [
    "# Generating the input data.\n",
    "x_data_in = np.arange(1,13,.1)\n"
   ]
  },
  {
   "cell_type": "code",
   "execution_count": 26,
   "metadata": {},
   "outputs": [],
   "source": [
    "# Generating the outpt data.\n",
    "y_data_out = 2.5 * x_data_in + np.random.normal(0,1,len(x_data_in))\n"
   ]
  },
  {
   "cell_type": "code",
   "execution_count": 27,
   "metadata": {},
   "outputs": [
    {
     "name": "stdout",
     "output_type": "stream",
     "text": [
      "Epoch 1/5\n",
      "4/4 [==============================] - 0s 1ms/step - loss: 128.2667 - accuracy: 0.0000e+00\n",
      "Epoch 2/5\n",
      "4/4 [==============================] - 0s 2ms/step - loss: 0.9824 - accuracy: 0.0000e+00\n",
      "Epoch 3/5\n",
      "4/4 [==============================] - 0s 3ms/step - loss: 0.9324 - accuracy: 0.0000e+00\n",
      "Epoch 4/5\n",
      "4/4 [==============================] - 0s 2ms/step - loss: 0.9470 - accuracy: 0.0000e+00\n",
      "Epoch 5/5\n",
      "4/4 [==============================] - 0s 2ms/step - loss: 0.8989 - accuracy: 0.0000e+00\n"
     ]
    },
    {
     "data": {
      "text/plain": [
       "<tensorflow.python.keras.callbacks.History at 0x20590c625e0>"
      ]
     },
     "execution_count": 27,
     "metadata": {},
     "output_type": "execute_result"
    }
   ],
   "source": [
    "# Here the model learns the relationship between the x and y data.\n",
    "# In this cas we have a predetermined relationship for testing purposes but in real world applications this relationship will not be known\n",
    "# and it is up to the model to \"learn\" this.\n",
    "model.fit(x_data_in, y_data_out, epochs=5, batch_size=32)"
   ]
  },
  {
   "cell_type": "code",
   "execution_count": 31,
   "metadata": {},
   "outputs": [],
   "source": [
    "# Generate test values for x\n",
    "x_test = np.linspace(-10.0, 20.0, 1000)"
   ]
  },
  {
   "cell_type": "code",
   "execution_count": 32,
   "metadata": {},
   "outputs": [],
   "source": [
    "# Use the model to predict the outputs from the test data inputs.\n",
    "predictions = model.predict(x_test)"
   ]
  },
  {
   "cell_type": "code",
   "execution_count": 34,
   "metadata": {},
   "outputs": [
    {
     "data": {
      "text/plain": [
       "[<matplotlib.lines.Line2D at 0x20590fae550>]"
      ]
     },
     "execution_count": 34,
     "metadata": {},
     "output_type": "execute_result"
    },
    {
     "data": {
      "image/png": "[encoded data removed]",
      "text/plain": [
       "<Figure size 1296x648 with 1 Axes>"
      ]
     },
     "metadata": {
      "needs_background": "light"
     },
     "output_type": "display_data"
    }
   ],
   "source": [
    "# Plot the predictions vs the original data set. \n",
    "fig,ax = plt.subplots(figsize=(18,9))\n",
    "ax.plot(x_data_in, y_data_out,'bx')\n",
    "ax.plot(x_test,predictions,'r.')"
   ]
  },
  {
   "cell_type": "code",
   "execution_count": null,
   "metadata": {},
   "outputs": [],
   "source": []
  }
 ],
 "metadata": {
  "kernelspec": {
   "display_name": "Python 3.8.8 ('base')",
   "language": "python",
   "name": "python3"
  },
  "language_info": {
   "codemirror_mode": {
    "name": "ipython",
    "version": 3
   },
   "file_extension": ".py",
   "mimetype": "text/x-python",
   "name": "python",
   "nbconvert_exporter": "python",
   "pygments_lexer": "ipython3",
   "version": "3.8.8"
  },
  "orig_nbformat": 4,
  "vscode": {
   "interpreter": {
    "hash": "026d2eec43adaaf55ed4ec0c8a3ceda1934c95315a7f191539cd5a8121fcd129"
   }
  }
 },
 "nbformat": 4,
 "nbformat_minor": 2
}
