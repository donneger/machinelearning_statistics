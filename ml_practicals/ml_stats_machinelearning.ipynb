{
 "cells": [
  {
   "cell_type": "markdown",
   "metadata": {},
   "source": [
    "# Notebook on Machine Learning"
   ]
  },
  {
   "cell_type": "code",
   "execution_count": 3,
   "metadata": {},
   "outputs": [],
   "source": [
    "import numpy as np\n",
    "\n",
    "import tensorflow.keras as keras"
   ]
  },
  {
   "cell_type": "markdown",
   "metadata": {},
   "source": [
    "## Basic Neuron Diagram"
   ]
  },
  {
   "cell_type": "markdown",
   "metadata": {},
   "source": [
    "![Basic Neuron](./images/neurons.png)"
   ]
  },
  {
   "cell_type": "markdown",
   "metadata": {},
   "source": [
    "### Single Input Neuron\n",
    "\n"
   ]
  },
  {
   "cell_type": "markdown",
   "metadata": {},
   "source": [
    "![Single Neuron](./images/single_neuron.png)"
   ]
  },
  {
   "cell_type": "markdown",
   "metadata": {},
   "source": [
    "Take a single input x1 and generate an output based on that x1.\n",
    "\n",
    "Very similar to the standard formula of \n",
    "$$ y = mx+c\n",
    "\n",
    "Phi(x) = x identity activation function\n",
    "\n",
    "Phi(x1w1 + w0) = x1w1 + w0"
   ]
  },
  {
   "cell_type": "code",
   "execution_count": 9,
   "metadata": {},
   "outputs": [],
   "source": [
    "def fire_neuron(x, w):\n",
    "    return w[1]*x + w[0]"
   ]
  },
  {
   "cell_type": "code",
   "execution_count": 10,
   "metadata": {},
   "outputs": [
    {
     "data": {
      "text/plain": [
       "2"
      ]
     },
     "execution_count": 10,
     "metadata": {},
     "output_type": "execute_result"
    }
   ],
   "source": [
    "y = fire_neuron(4,[2,0])\n",
    "y"
   ]
  },
  {
   "cell_type": "markdown",
   "metadata": {},
   "source": [
    "### Using NP arrays to simplify the code.\n",
    "#### Basic Approach for simple neuron function.\n",
    "- Need an array of x values. These are the inputs, floating points.\n",
    "- Note that in the x array x[0]must be = 1 per the neuron diagram. \n",
    "- Need an array of w values of same size as x. This has all of the weights values. \n",
    "- We want the weights to change based on the x inputs and resulting y values (training data) so that the w values can mimic what could be the underlying relationship between x and y. \n",
    "- need an activation function."
   ]
  },
  {
   "cell_type": "code",
   "execution_count": null,
   "metadata": {},
   "outputs": [],
   "source": []
  }
 ],
 "metadata": {
  "kernelspec": {
   "display_name": "Python 3.8.8 ('base')",
   "language": "python",
   "name": "python3"
  },
  "language_info": {
   "codemirror_mode": {
    "name": "ipython",
    "version": 3
   },
   "file_extension": ".py",
   "mimetype": "text/x-python",
   "name": "python",
   "nbconvert_exporter": "python",
   "pygments_lexer": "ipython3",
   "version": "3.8.8"
  },
  "orig_nbformat": 4,
  "vscode": {
   "interpreter": {
    "hash": "026d2eec43adaaf55ed4ec0c8a3ceda1934c95315a7f191539cd5a8121fcd129"
   }
  }
 },
 "nbformat": 4,
 "nbformat_minor": 2
}
