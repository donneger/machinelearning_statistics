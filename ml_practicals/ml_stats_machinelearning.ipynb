{
 "cells": [
  {
   "cell_type": "markdown",
   "metadata": {},
   "source": [
    "# Notebook on Machine Learning"
   ]
  },
  {
   "cell_type": "code",
   "execution_count": 1,
   "metadata": {},
   "outputs": [],
   "source": [
    "import numpy as np\n",
    "\n"
   ]
  },
  {
   "cell_type": "markdown",
   "metadata": {},
   "source": [
    "## Basic Neuron Diagram"
   ]
  },
  {
   "cell_type": "markdown",
   "metadata": {},
   "source": [
    "![Basic Neuron](./images/neurons.png)"
   ]
  },
  {
   "cell_type": "markdown",
   "metadata": {},
   "source": [
    "### Single Input Neuron\n",
    "\n"
   ]
  },
  {
   "cell_type": "markdown",
   "metadata": {},
   "source": [
    "![Single Neuron](./images/single_neuron.png)"
   ]
  },
  {
   "cell_type": "markdown",
   "metadata": {},
   "source": [
    "Take a single input x1 and generate an output based on that x1.\n",
    "\n",
    "Very similar to the standard formula of \n",
    "$$ y = mx+c\n",
    "\n",
    "Phi(x) = x identity activation function\n",
    "\n",
    "Phi(x1w1 + w0) = x1w1 + w0"
   ]
  },
  {
   "cell_type": "markdown",
   "metadata": {},
   "source": [
    "### Using NP arrays to simplify the code.\n",
    "#### Basic Approach for simple neuron function.\n",
    "- Need an array of x values. These are the inputs, floating points.\n",
    "- Note that in the x array x[0]must be = 1 per the neuron diagram. \n",
    "- Need an array of w values of same size as x. This has all of the weights values. \n",
    "- We want the weights to change based on the x inputs and resulting y values (training data) so that the w values can mimic what could be the underlying relationship between x and y. \n",
    "- need an identity function."
   ]
  },
  {
   "cell_type": "code",
   "execution_count": 88,
   "metadata": {},
   "outputs": [],
   "source": [
    "def identity(x):\n",
    "    return x"
   ]
  },
  {
   "cell_type": "code",
   "execution_count": 89,
   "metadata": {},
   "outputs": [],
   "source": [
    "# Trying out basic neuron code\n",
    "def fire_neuron(x, w, phi):\n",
    "    return phi(np.sum(x*w))"
   ]
  },
  {
   "cell_type": "code",
   "execution_count": 90,
   "metadata": {},
   "outputs": [
    {
     "data": {
      "text/plain": [
       "16.5"
      ]
     },
     "execution_count": 90,
     "metadata": {},
     "output_type": "execute_result"
    }
   ],
   "source": [
    "x = np.array([1.0, 4.0])\n",
    "w = np.array([2.5, 3.5])\n",
    "# In this example x0 is 1 and w0 is 2. x1 is 4 and w1 is 3. \n",
    "# In the function summing 4*3 + 1*2 = 14\n",
    "fire_neuron(x,w,identity)\n"
   ]
  },
  {
   "cell_type": "markdown",
   "metadata": {},
   "source": [
    "### Supervised Learning\n",
    "#### Training Data Sets. \n",
    "\n",
    "In the real world we will have inputs and outputs and we are trying to find the relationship between the two to train the neural network, i.e we want to get the network to learn the relationship between the two and find the value of w that best matches that real relationship. "
   ]
  },
  {
   "cell_type": "code",
   "execution_count": 91,
   "metadata": {},
   "outputs": [],
   "source": [
    "import matplotlib.pyplot as plt"
   ]
  },
  {
   "cell_type": "code",
   "execution_count": 92,
   "metadata": {},
   "outputs": [
    {
     "data": {
      "text/plain": [
       "array([ 1,  2,  3,  4,  5,  6,  7,  8,  9, 10])"
      ]
     },
     "execution_count": 92,
     "metadata": {},
     "output_type": "execute_result"
    }
   ],
   "source": [
    "x_data = np.arange(1,11,1)\n",
    "x_data"
   ]
  },
  {
   "cell_type": "code",
   "execution_count": 93,
   "metadata": {},
   "outputs": [
    {
     "data": {
      "text/plain": [
       "array([ 1.49198405,  4.79495546,  8.75428037,  9.4530944 , 13.10679649,\n",
       "       16.4853675 , 16.58859302, 22.68286716, 22.45092207, 26.12737988])"
      ]
     },
     "execution_count": 93,
     "metadata": {},
     "output_type": "execute_result"
    }
   ],
   "source": [
    "y_data = 2.5 * x_data + np.random.normal(0,1,len(x_data))\n",
    "y_data"
   ]
  },
  {
   "cell_type": "code",
   "execution_count": 94,
   "metadata": {},
   "outputs": [
    {
     "data": {
      "text/plain": [
       "[<matplotlib.lines.Line2D at 0x20c45639610>]"
      ]
     },
     "execution_count": 94,
     "metadata": {},
     "output_type": "execute_result"
    },
    {
     "data": {
      "image/png": "[encoded data removed]",
      "text/plain": [
       "<Figure size 432x288 with 1 Axes>"
      ]
     },
     "metadata": {
      "needs_background": "light"
     },
     "output_type": "display_data"
    }
   ],
   "source": [
    "plt.plot(x_data, y_data, 'b.')"
   ]
  },
  {
   "cell_type": "code",
   "execution_count": 98,
   "metadata": {},
   "outputs": [
    {
     "data": {
      "text/plain": [
       "(4, 9.45309439784191)"
      ]
     },
     "execution_count": 98,
     "metadata": {},
     "output_type": "execute_result"
    }
   ],
   "source": [
    "i = [3]\n",
    "x_data[3], y_data[3]"
   ]
  },
  {
   "cell_type": "code",
   "execution_count": 102,
   "metadata": {},
   "outputs": [
    {
     "data": {
      "text/plain": [
       "8.0"
      ]
     },
     "execution_count": 102,
     "metadata": {},
     "output_type": "execute_result"
    }
   ],
   "source": [
    "w = np.array([0.0, 2.0])\n",
    "\n",
    "fire_neuron(np.array([1.0, x_data[3]]), w, identity)"
   ]
  },
  {
   "cell_type": "markdown",
   "metadata": {},
   "source": [
    "## Cost - how do we get to a cost function for our neural network"
   ]
  },
  {
   "cell_type": "markdown",
   "metadata": {},
   "source": [
    "## Keras and Tensorflow\n"
   ]
  },
  {
   "cell_type": "code",
   "execution_count": 40,
   "metadata": {},
   "outputs": [],
   "source": [
    "import numpy as np\n",
    "# Bring in keras\n",
    "import tensorflow.keras as keras"
   ]
  },
  {
   "cell_type": "code",
   "execution_count": 41,
   "metadata": {},
   "outputs": [],
   "source": [
    "# Create a model that represent a model of a neural network\n",
    "model = keras.Sequential()"
   ]
  },
  {
   "cell_type": "code",
   "execution_count": 42,
   "metadata": {},
   "outputs": [],
   "source": [
    "# This is a single layer with 64 neurons, relu activation function.\n",
    "model.add(keras.layers.Dense(units=64, activation ='relu'))"
   ]
  },
  {
   "cell_type": "code",
   "execution_count": 43,
   "metadata": {},
   "outputs": [],
   "source": [
    "# Add another layer with 10 neurons. \n",
    "# Dense indicates that every neuron in this layer is connected to every neuron in the 64 layer. 640 connections with 640 weights.\n",
    "# Extra layers can be added bu using 'add'.\n",
    "model.add(keras.layers.Dense(units = 10 , activation ='softmax'))"
   ]
  },
  {
   "cell_type": "code",
   "execution_count": 44,
   "metadata": {},
   "outputs": [],
   "source": [
    "# Compile the neural network, ie build and package it for use. \n",
    "model.compile(loss='categorical_crossentropy',\n",
    "              optimizer='sgd',\n",
    "              metrics=['accuracy'])"
   ]
  },
  {
   "cell_type": "code",
   "execution_count": 45,
   "metadata": {},
   "outputs": [],
   "source": [
    "# Create test data\n",
    "x_train = np.random.normal(0.0, 1.0, (100,64))\n",
    "y_train = np.random.normal(0.5,1.0, (100,10))\n",
    "#(x_train, y_train), (x_test, y_test) = keras.datasets.mnist.load_data()"
   ]
  },
  {
   "cell_type": "code",
   "execution_count": 46,
   "metadata": {},
   "outputs": [
    {
     "name": "stdout",
     "output_type": "stream",
     "text": [
      "Epoch 1/5\n",
      "4/4 [==============================] - 0s 3ms/step - loss: 13.5522 - accuracy: 0.0900\n",
      "Epoch 2/5\n",
      "4/4 [==============================] - 0s 2ms/step - loss: 13.1697 - accuracy: 0.0900\n",
      "Epoch 3/5\n",
      "4/4 [==============================] - 0s 2ms/step - loss: 12.8021 - accuracy: 0.1000\n",
      "Epoch 4/5\n",
      "4/4 [==============================] - 0s 6ms/step - loss: 12.4129 - accuracy: 0.1000\n",
      "Epoch 5/5\n",
      "4/4 [==============================] - 0s 2ms/step - loss: 12.1037 - accuracy: 0.1200\n"
     ]
    },
    {
     "data": {
      "text/plain": [
       "<tensorflow.python.keras.callbacks.History at 0x2144b417d90>"
      ]
     },
     "execution_count": 46,
     "metadata": {},
     "output_type": "execute_result"
    }
   ],
   "source": [
    "# Training data x_train and y_train are Numpy arrays. Epochs is number of times to go through the training dataset. Batch Size is the number of data points \n",
    "# presented at one time.\n",
    "model.fit(x_train, y_train, epochs=5, batch_size=32)"
   ]
  },
  {
   "cell_type": "code",
   "execution_count": 47,
   "metadata": {},
   "outputs": [],
   "source": [
    "x_test = np.random.normal(0.0, 1.0, (10,64))\n",
    "y_test = np.random.normal(0.5,1.0, (10,10))"
   ]
  },
  {
   "cell_type": "code",
   "execution_count": 48,
   "metadata": {},
   "outputs": [
    {
     "name": "stdout",
     "output_type": "stream",
     "text": [
      "1/1 [==============================] - 0s 5ms/step - loss: 15.5617 - accuracy: 0.1000\n"
     ]
    }
   ],
   "source": [
    "# Evaluate the network\n",
    "loss_and_metrics = model.evaluate(x_test, y_test, batch_size=128)"
   ]
  },
  {
   "cell_type": "code",
   "execution_count": 49,
   "metadata": {},
   "outputs": [
    {
     "data": {
      "text/plain": [
       "array([[0.2103525 , 0.0170563 , 0.09905961, 0.15534082, 0.01042602,\n",
       "        0.02550072, 0.05983097, 0.2425146 , 0.04065247, 0.13926595],\n",
       "       [0.10069069, 0.08918045, 0.0829308 , 0.04988284, 0.07204383,\n",
       "        0.06568019, 0.0618783 , 0.17015179, 0.21486405, 0.09269707],\n",
       "       [0.02790796, 0.03745997, 0.42256546, 0.02532136, 0.01470297,\n",
       "        0.0123248 , 0.19250818, 0.06454949, 0.01834936, 0.18431044],\n",
       "       [0.05352475, 0.03188977, 0.28405777, 0.07919138, 0.04249623,\n",
       "        0.07456913, 0.08274108, 0.25968602, 0.05492805, 0.03691578],\n",
       "       [0.22395565, 0.05358795, 0.07059072, 0.09404014, 0.02949744,\n",
       "        0.0147888 , 0.04127076, 0.14220499, 0.15827014, 0.17179352],\n",
       "       [0.13029763, 0.04702473, 0.14269483, 0.10804771, 0.05904974,\n",
       "        0.06471702, 0.09973785, 0.17337234, 0.07416371, 0.10089448],\n",
       "       [0.3911614 , 0.04661252, 0.10105816, 0.07592484, 0.04581001,\n",
       "        0.02751297, 0.04061443, 0.03906019, 0.10575543, 0.12649   ],\n",
       "       [0.21002162, 0.03742507, 0.13756144, 0.16420336, 0.12466581,\n",
       "        0.02173982, 0.0679372 , 0.06181546, 0.07514756, 0.09948259],\n",
       "       [0.07205224, 0.18000919, 0.12368999, 0.05771441, 0.06496605,\n",
       "        0.03195706, 0.05797452, 0.21403134, 0.07380264, 0.12380259],\n",
       "       [0.09857973, 0.05376201, 0.09032121, 0.0225596 , 0.00123101,\n",
       "        0.01094805, 0.02512721, 0.17458212, 0.03865394, 0.4842351 ]],\n",
       "      dtype=float32)"
      ]
     },
     "execution_count": 49,
     "metadata": {},
     "output_type": "execute_result"
    }
   ],
   "source": [
    "# Predictions on the test set. \n",
    "classes = model.predict(x_test, batch_size=128)\n",
    "classes"
   ]
  },
  {
   "cell_type": "markdown",
   "metadata": {},
   "source": [
    "### Single Neuron in keras"
   ]
  },
  {
   "cell_type": "code",
   "execution_count": 77,
   "metadata": {},
   "outputs": [],
   "source": [
    "import numpy as np\n",
    "# Bring in keras\n",
    "import tensorflow.keras as keras"
   ]
  },
  {
   "cell_type": "code",
   "execution_count": 78,
   "metadata": {},
   "outputs": [],
   "source": [
    "model = keras.Sequential()"
   ]
  },
  {
   "cell_type": "code",
   "execution_count": 79,
   "metadata": {},
   "outputs": [],
   "source": [
    "# Setting a new model with just 1 neuron. No activation function applied.\n",
    "# In general the activation function actas as a gate between the input of a neuron and the output going to the neuron in the next layer. \n",
    "# Most common is Relu, (Rectified Liner Unit), if input is negative returns 0, if positive returns back the input. \n",
    "model.add(keras.layers.Dense(units=1))"
   ]
  },
  {
   "cell_type": "code",
   "execution_count": 80,
   "metadata": {},
   "outputs": [],
   "source": [
    "# Compile the neural network, ie build and package it for use. \n",
    "# The loss = mse, is the square of the differenctes between the predicted values of y and the true values, loss = square(y_true = y_pred)\n",
    "# Optimizer of the method of adjusting the weights to get closer to the desited output.\n",
    "model.compile(loss='mean_squared_error',\n",
    "              optimizer='sgd',\n",
    "              metrics=['accuracy'])"
   ]
  },
  {
   "cell_type": "code",
   "execution_count": 84,
   "metadata": {},
   "outputs": [],
   "source": [
    "# data in\n",
    "x_data_in = np.arange(1,13,.01)\n"
   ]
  },
  {
   "cell_type": "code",
   "execution_count": 86,
   "metadata": {},
   "outputs": [],
   "source": [
    "# Data out\n",
    "y_data_out = 2.5 * x_data_in + np.random.normal(0,1,len(x_data_in))\n"
   ]
  },
  {
   "cell_type": "code",
   "execution_count": 87,
   "metadata": {},
   "outputs": [
    {
     "name": "stdout",
     "output_type": "stream",
     "text": [
      "Epoch 1/5\n",
      "38/38 [==============================] - 0s 5ms/step - loss: 1.0959 - accuracy: 0.0000e+00\n",
      "Epoch 2/5\n",
      "38/38 [==============================] - 0s 8ms/step - loss: 1.0467 - accuracy: 0.0000e+00\n",
      "Epoch 3/5\n",
      "38/38 [==============================] - 0s 8ms/step - loss: 1.0259 - accuracy: 0.0000e+00\n",
      "Epoch 4/5\n",
      "38/38 [==============================] - 0s 10ms/step - loss: 1.0330 - accuracy: 0.0000e+00\n",
      "Epoch 5/5\n",
      "38/38 [==============================] - 0s 9ms/step - loss: 1.0299 - accuracy: 0.0000e+00\n"
     ]
    },
    {
     "data": {
      "text/plain": [
       "<tensorflow.python.keras.callbacks.History at 0x2144e32c610>"
      ]
     },
     "execution_count": 87,
     "metadata": {},
     "output_type": "execute_result"
    }
   ],
   "source": [
    "model.fit(x_data_in, y_data_out, epochs=5, batch_size=32)"
   ]
  },
  {
   "cell_type": "code",
   "execution_count": null,
   "metadata": {},
   "outputs": [],
   "source": []
  }
 ],
 "metadata": {
  "kernelspec": {
   "display_name": "Python 3.8.8 ('base')",
   "language": "python",
   "name": "python3"
  },
  "language_info": {
   "codemirror_mode": {
    "name": "ipython",
    "version": 3
   },
   "file_extension": ".py",
   "mimetype": "text/x-python",
   "name": "python",
   "nbconvert_exporter": "python",
   "pygments_lexer": "ipython3",
   "version": "3.8.8"
  },
  "orig_nbformat": 4,
  "vscode": {
   "interpreter": {
    "hash": "026d2eec43adaaf55ed4ec0c8a3ceda1934c95315a7f191539cd5a8121fcd129"
   }
  }
 },
 "nbformat": 4,
 "nbformat_minor": 2
}
