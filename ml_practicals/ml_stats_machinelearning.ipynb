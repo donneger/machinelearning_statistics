{
 "cells": [
  {
   "attachments": {},
   "cell_type": "markdown",
   "metadata": {},
   "source": [
    "<h1 align=\"center\">Machine Learning and Statistics</h1>"
   ]
  },
  {
   "attachments": {},
   "cell_type": "markdown",
   "metadata": {},
   "source": [
    "## Notebook on Machine Learning"
   ]
  },
  {
   "cell_type": "code",
   "execution_count": 1,
   "metadata": {},
   "outputs": [],
   "source": [
    "import numpy as np"
   ]
  },
  {
   "cell_type": "markdown",
   "metadata": {},
   "source": [
    "## Basic Neuron Diagram"
   ]
  },
  {
   "attachments": {},
   "cell_type": "markdown",
   "metadata": {},
   "source": [
    "![Basic Neuron](../ml_practicals/images/neurons.png)"
   ]
  },
  {
   "cell_type": "markdown",
   "metadata": {},
   "source": [
    "### Single Input Neuron\n",
    "\n"
   ]
  },
  {
   "attachments": {},
   "cell_type": "markdown",
   "metadata": {},
   "source": [
    "![Single Neuron](../ml_practicals/images/single_neuron.jpg)"
   ]
  },
  {
   "cell_type": "markdown",
   "metadata": {},
   "source": [
    "Take a single input x1 and generate an output based on that x1.\n",
    "\n",
    "Very similar to the standard formula of \n",
    "$$ y = mx+c\n",
    "\n",
    "Phi(x) = x identity activation function\n",
    "\n",
    "Phi(x1w1 + w0) = x1w1 + w0"
   ]
  },
  {
   "cell_type": "markdown",
   "metadata": {},
   "source": [
    "### Using NP arrays to simplify the code.\n",
    "#### Basic Approach for simple neuron function.\n",
    "- Need an array of x values. These are the inputs, floating points.\n",
    "- Note that in the x array x[0]must be = 1 per the neuron diagram. \n",
    "- Need an array of w values of same size as x. This has all of the weights values. \n",
    "- We want the weights to change based on the x inputs and resulting y values (training data) so that the w values can mimic what could be the underlying relationship between x and y. \n",
    "- need an identity function."
   ]
  },
  {
   "cell_type": "code",
   "execution_count": 2,
   "metadata": {},
   "outputs": [],
   "source": [
    "def identity(x):\n",
    "    return x"
   ]
  },
  {
   "cell_type": "code",
   "execution_count": 3,
   "metadata": {},
   "outputs": [],
   "source": [
    "# Trying out basic neuron code\n",
    "def fire_neuron(x, w, phi):\n",
    "    return phi(np.sum(x*w))"
   ]
  },
  {
   "cell_type": "code",
   "execution_count": 4,
   "metadata": {},
   "outputs": [
    {
     "data": {
      "text/plain": [
       "16.5"
      ]
     },
     "execution_count": 4,
     "metadata": {},
     "output_type": "execute_result"
    }
   ],
   "source": [
    "x = np.array([1.0, 4.0])\n",
    "w = np.array([2.5, 3.5])\n",
    "# In this example x0 is 1 and w0 is 2. x1 is 4 and w1 is 3. \n",
    "# In the function summing 4*3 + 1*2 = 14\n",
    "fire_neuron(x,w,identity)\n"
   ]
  },
  {
   "cell_type": "markdown",
   "metadata": {},
   "source": [
    "### Supervised Learning\n",
    "#### Training Data Sets. \n",
    "\n",
    "In the real world we will have inputs and outputs and we are trying to find the relationship between the two to train the neural network, i.e we want to get the network to learn the relationship between the two and find the value of w that best matches that real relationship. "
   ]
  },
  {
   "cell_type": "code",
   "execution_count": 5,
   "metadata": {},
   "outputs": [],
   "source": [
    "import matplotlib.pyplot as plt"
   ]
  },
  {
   "cell_type": "code",
   "execution_count": 6,
   "metadata": {},
   "outputs": [
    {
     "data": {
      "text/plain": [
       "array([ 1,  2,  3,  4,  5,  6,  7,  8,  9, 10])"
      ]
     },
     "execution_count": 6,
     "metadata": {},
     "output_type": "execute_result"
    }
   ],
   "source": [
    "x_data = np.arange(1,11,1)\n",
    "x_data"
   ]
  },
  {
   "cell_type": "code",
   "execution_count": 7,
   "metadata": {},
   "outputs": [
    {
     "data": {
      "text/plain": [
       "array([ 1.0890697 ,  7.36799823,  7.98726807, 11.51437395, 12.20203418,\n",
       "       14.0639459 , 19.53329329, 19.64518596, 20.65455718, 25.7057652 ])"
      ]
     },
     "execution_count": 7,
     "metadata": {},
     "output_type": "execute_result"
    }
   ],
   "source": [
    "y_data = 2.5 * x_data + np.random.normal(0,1,len(x_data))\n",
    "y_data"
   ]
  },
  {
   "cell_type": "code",
   "execution_count": 8,
   "metadata": {},
   "outputs": [
    {
     "data": {
      "text/plain": [
       "[<matplotlib.lines.Line2D at 0x2ba75de2850>]"
      ]
     },
     "execution_count": 8,
     "metadata": {},
     "output_type": "execute_result"
    },
    {
     "data": {
      "image/png": "[encoded data removed]",
      "text/plain": [
       "<Figure size 432x288 with 1 Axes>"
      ]
     },
     "metadata": {
      "needs_background": "light"
     },
     "output_type": "display_data"
    }
   ],
   "source": [
    "plt.plot(x_data, y_data, 'b.')"
   ]
  },
  {
   "cell_type": "code",
   "execution_count": 9,
   "metadata": {},
   "outputs": [
    {
     "data": {
      "text/plain": [
       "(4, 11.514373946063687)"
      ]
     },
     "execution_count": 9,
     "metadata": {},
     "output_type": "execute_result"
    }
   ],
   "source": [
    "i = [3]\n",
    "x_data[3], y_data[3]"
   ]
  },
  {
   "cell_type": "code",
   "execution_count": 10,
   "metadata": {},
   "outputs": [
    {
     "data": {
      "text/plain": [
       "8.0"
      ]
     },
     "execution_count": 10,
     "metadata": {},
     "output_type": "execute_result"
    }
   ],
   "source": [
    "w = np.array([0.0, 2.0])\n",
    "\n",
    "fire_neuron(np.array([1.0, x_data[3]]), w, identity)"
   ]
  },
  {
   "cell_type": "markdown",
   "metadata": {},
   "source": [
    "## Cost - how do we get to a cost function for our neural network"
   ]
  },
  {
   "cell_type": "markdown",
   "metadata": {},
   "source": [
    "## Keras and Tensorflow\n"
   ]
  },
  {
   "cell_type": "code",
   "execution_count": 11,
   "metadata": {},
   "outputs": [],
   "source": [
    "import numpy as np\n",
    "# Bring in keras\n",
    "import tensorflow.keras as keras\n",
    "import matplotlib.pyplot as plt"
   ]
  },
  {
   "cell_type": "code",
   "execution_count": 12,
   "metadata": {},
   "outputs": [],
   "source": [
    "# Create a model that represent a model of a neural network\n",
    "model = keras.Sequential()"
   ]
  },
  {
   "cell_type": "code",
   "execution_count": 13,
   "metadata": {},
   "outputs": [],
   "source": [
    "# This is a single layer with 64 neurons, relu activation function.\n",
    "model.add(keras.layers.Dense(units=64, activation ='relu'))"
   ]
  },
  {
   "cell_type": "code",
   "execution_count": 14,
   "metadata": {},
   "outputs": [],
   "source": [
    "# Add another layer with 10 neurons. \n",
    "# Dense indicates that every neuron in this layer is connected to every neuron in the 64 layer. 640 connections with 640 weights.\n",
    "# Extra layers can be added bu using 'add'.\n",
    "model.add(keras.layers.Dense(units = 10 , activation ='softmax'))"
   ]
  },
  {
   "cell_type": "code",
   "execution_count": 15,
   "metadata": {},
   "outputs": [],
   "source": [
    "# Compile the neural network, ie build and package it for use. \n",
    "model.compile(loss='categorical_crossentropy',\n",
    "              optimizer='sgd',\n",
    "              metrics=['accuracy'])"
   ]
  },
  {
   "cell_type": "code",
   "execution_count": 16,
   "metadata": {},
   "outputs": [],
   "source": [
    "# Create test data\n",
    "x_train = np.random.normal(0.0, 1.0, (100,64))\n",
    "y_train = np.random.normal(0.5,1.0, (100,10))\n",
    "#(x_train, y_train), (x_test, y_test) = keras.datasets.mnist.load_data()"
   ]
  },
  {
   "cell_type": "code",
   "execution_count": 17,
   "metadata": {},
   "outputs": [
    {
     "name": "stdout",
     "output_type": "stream",
     "text": [
      "Epoch 1/5\n",
      "4/4 [==============================] - 0s 996us/step - loss: 13.5812 - accuracy: 0.0800\n",
      "Epoch 2/5\n",
      "4/4 [==============================] - 0s 1ms/step - loss: 13.2651 - accuracy: 0.0900\n",
      "Epoch 3/5\n",
      "4/4 [==============================] - 0s 1ms/step - loss: 12.9927 - accuracy: 0.0900\n",
      "Epoch 4/5\n",
      "4/4 [==============================] - 0s 999us/step - loss: 12.7425 - accuracy: 0.1000\n",
      "Epoch 5/5\n",
      "4/4 [==============================] - 0s 1ms/step - loss: 12.4677 - accuracy: 0.1200\n"
     ]
    },
    {
     "data": {
      "text/plain": [
       "<tensorflow.python.keras.callbacks.History at 0x2ba7d4cdaf0>"
      ]
     },
     "execution_count": 17,
     "metadata": {},
     "output_type": "execute_result"
    }
   ],
   "source": [
    "# Training data x_train and y_train are Numpy arrays. Epochs is number of times to go through the training dataset. Batch Size is the number of data points \n",
    "# presented at one time.\n",
    "model.fit(x_train, y_train, epochs=5, batch_size=32)"
   ]
  },
  {
   "cell_type": "code",
   "execution_count": 18,
   "metadata": {},
   "outputs": [],
   "source": [
    "x_test = np.random.normal(0.0, 1.0, (10,64))\n",
    "y_test = np.random.normal(0.5,1.0, (10,10))"
   ]
  },
  {
   "cell_type": "code",
   "execution_count": 19,
   "metadata": {},
   "outputs": [
    {
     "name": "stdout",
     "output_type": "stream",
     "text": [
      "1/1 [==============================] - 0s 1ms/step - loss: 10.9016 - accuracy: 0.0000e+00\n"
     ]
    }
   ],
   "source": [
    "# Evaluate the network\n",
    "loss_and_metrics = model.evaluate(x_test, y_test, batch_size=128)"
   ]
  },
  {
   "cell_type": "code",
   "execution_count": 20,
   "metadata": {},
   "outputs": [
    {
     "data": {
      "text/plain": [
       "array([[0.11324408, 0.35782114, 0.06850518, 0.04901462, 0.12266715,\n",
       "        0.02093421, 0.11324338, 0.04966059, 0.03731098, 0.06759873],\n",
       "       [0.0349305 , 0.13567887, 0.06447322, 0.02835771, 0.09813308,\n",
       "        0.08606794, 0.1458829 , 0.03464347, 0.14427523, 0.22755706],\n",
       "       [0.0239398 , 0.17873569, 0.11312555, 0.07690739, 0.01974158,\n",
       "        0.0635815 , 0.4220634 , 0.01692546, 0.04019747, 0.04478212],\n",
       "       [0.09546061, 0.14973782, 0.05422671, 0.10885707, 0.08502652,\n",
       "        0.06011549, 0.19390835, 0.06233642, 0.12757178, 0.06275917],\n",
       "       [0.2826211 , 0.05344592, 0.06193099, 0.05221949, 0.05882431,\n",
       "        0.05628712, 0.18998317, 0.06149989, 0.06885437, 0.11433357],\n",
       "       [0.0500341 , 0.08779218, 0.03516389, 0.05491938, 0.08649366,\n",
       "        0.25057888, 0.1255324 , 0.06207069, 0.10921374, 0.13820098],\n",
       "       [0.03211398, 0.04078713, 0.07683817, 0.3654713 , 0.04901009,\n",
       "        0.13778585, 0.05405277, 0.1046003 , 0.06895437, 0.07038593],\n",
       "       [0.07254673, 0.16965751, 0.20165955, 0.12402219, 0.03807469,\n",
       "        0.02497288, 0.11607435, 0.10629933, 0.06643089, 0.08026194],\n",
       "       [0.09531923, 0.10873143, 0.03398826, 0.04108822, 0.3093007 ,\n",
       "        0.05340627, 0.21467741, 0.02842917, 0.09779269, 0.01726657],\n",
       "       [0.0660345 , 0.08321905, 0.05447672, 0.10983494, 0.11503119,\n",
       "        0.21832432, 0.17266548, 0.02760375, 0.10643813, 0.04637194]],\n",
       "      dtype=float32)"
      ]
     },
     "execution_count": 20,
     "metadata": {},
     "output_type": "execute_result"
    }
   ],
   "source": [
    "# Predictions on the test set. \n",
    "classes = model.predict(x_test, batch_size=128)\n",
    "classes"
   ]
  },
  {
   "cell_type": "markdown",
   "metadata": {},
   "source": [
    "### Single Neuron in keras"
   ]
  },
  {
   "cell_type": "code",
   "execution_count": 21,
   "metadata": {},
   "outputs": [],
   "source": [
    "import numpy as np\n",
    "# Bring in keras\n",
    "import tensorflow.keras as keras"
   ]
  },
  {
   "cell_type": "code",
   "execution_count": 22,
   "metadata": {},
   "outputs": [],
   "source": [
    "model = keras.Sequential()"
   ]
  },
  {
   "cell_type": "code",
   "execution_count": 23,
   "metadata": {},
   "outputs": [],
   "source": [
    "# Setting a new model with just 1 neuron. No activation function applied.\n",
    "# In general the activation function actas as a gate between the input of a neuron and the output going to the neuron in the next layer. \n",
    "# Most common is Relu, (Rectified Liner Unit), if input is negative returns 0, if positive returns back the input. \n",
    "model.add(keras.layers.Dense(units=1))"
   ]
  },
  {
   "cell_type": "code",
   "execution_count": 24,
   "metadata": {},
   "outputs": [],
   "source": [
    "# Compile the neural network, ie build and package it for use. \n",
    "# The loss = mse, is the square of the differenctes between the predicted values of y and the true values, loss = square(y_true = y_pred)\n",
    "# Optimizer of the method of adjusting the weights to get closer to the desited output.\n",
    "model.compile(loss='mean_squared_error',\n",
    "              optimizer='sgd',\n",
    "              metrics=['accuracy'])"
   ]
  },
  {
   "cell_type": "code",
   "execution_count": 25,
   "metadata": {},
   "outputs": [],
   "source": [
    "# Generating the input data.\n",
    "x_data_in = np.arange(1,13,.01)\n"
   ]
  },
  {
   "cell_type": "code",
   "execution_count": 26,
   "metadata": {},
   "outputs": [],
   "source": [
    "# Generating the outpt data.\n",
    "y_data_out = 2.5 * x_data_in + np.random.normal(0,1,len(x_data_in))\n"
   ]
  },
  {
   "cell_type": "code",
   "execution_count": 27,
   "metadata": {},
   "outputs": [
    {
     "name": "stdout",
     "output_type": "stream",
     "text": [
      "Epoch 1/5\n",
      "38/38 [==============================] - 0s 845us/step - loss: 29.3133 - accuracy: 0.0000e+00\n",
      "Epoch 2/5\n",
      "38/38 [==============================] - 0s 751us/step - loss: 1.0929 - accuracy: 0.0000e+00\n",
      "Epoch 3/5\n",
      "38/38 [==============================] - 0s 767us/step - loss: 1.0908 - accuracy: 0.0000e+00\n",
      "Epoch 4/5\n",
      "38/38 [==============================] - 0s 809us/step - loss: 1.0848 - accuracy: 0.0000e+00\n",
      "Epoch 5/5\n",
      "38/38 [==============================] - 0s 714us/step - loss: 1.0735 - accuracy: 0.0000e+00\n"
     ]
    },
    {
     "data": {
      "text/plain": [
       "<tensorflow.python.keras.callbacks.History at 0x2ba7e7c1670>"
      ]
     },
     "execution_count": 27,
     "metadata": {},
     "output_type": "execute_result"
    }
   ],
   "source": [
    "# Here the model learns the relationship between the x and y data.\n",
    "# In this cas we have a predetermined relationship for testing purposes but in real world applications this relationship will not be known\n",
    "# and it is up to the model to \"learn\" this.\n",
    "model.fit(x_data_in, y_data_out, epochs=5, batch_size=32)"
   ]
  },
  {
   "cell_type": "code",
   "execution_count": 28,
   "metadata": {},
   "outputs": [],
   "source": [
    "# Generate test values for x\n",
    "x_test = np.linspace(-10.0, 20.0, 1000)"
   ]
  },
  {
   "cell_type": "code",
   "execution_count": 29,
   "metadata": {},
   "outputs": [],
   "source": [
    "# Use the model to predict the outputs from the test data inputs.\n",
    "predictions = model.predict(x_test)"
   ]
  },
  {
   "cell_type": "code",
   "execution_count": 30,
   "metadata": {},
   "outputs": [
    {
     "data": {
      "text/plain": [
       "[<matplotlib.lines.Line2D at 0x2ba7e89db80>]"
      ]
     },
     "execution_count": 30,
     "metadata": {},
     "output_type": "execute_result"
    },
    {
     "data": {
      "image/png": "[encoded data removed]",
      "text/plain": [
       "<Figure size 1296x648 with 1 Axes>"
      ]
     },
     "metadata": {
      "needs_background": "light"
     },
     "output_type": "display_data"
    }
   ],
   "source": [
    "# Plot the predictions vs the original data set. \n",
    "fig,ax = plt.subplots(figsize=(18,9))\n",
    "ax.plot(x_data_in, y_data_out,'bx')\n",
    "ax.plot(x_test,predictions,'r.')"
   ]
  },
  {
   "cell_type": "code",
   "execution_count": null,
   "metadata": {},
   "outputs": [],
   "source": []
  }
 ],
 "metadata": {
  "kernelspec": {
   "display_name": "Python 3.8.8 ('base')",
   "language": "python",
   "name": "python3"
  },
  "language_info": {
   "codemirror_mode": {
    "name": "ipython",
    "version": 3
   },
   "file_extension": ".py",
   "mimetype": "text/x-python",
   "name": "python",
   "nbconvert_exporter": "python",
   "pygments_lexer": "ipython3",
   "version": "3.8.8"
  },
  "orig_nbformat": 4,
  "vscode": {
   "interpreter": {
    "hash": "026d2eec43adaaf55ed4ec0c8a3ceda1934c95315a7f191539cd5a8121fcd129"
   }
  }
 },
 "nbformat": 4,
 "nbformat_minor": 2
}
