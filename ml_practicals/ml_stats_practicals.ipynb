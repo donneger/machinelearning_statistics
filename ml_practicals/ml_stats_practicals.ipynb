{
 "cells": [
  {
   "cell_type": "markdown",
   "id": "e803e970",
   "metadata": {},
   "source": [
    "# Machine Learning and Statistics\n",
    "\n",
    "## Practical Exercises.\n",
    "\n"
   ]
  },
  {
   "cell_type": "markdown",
   "id": "ad3990c3",
   "metadata": {},
   "source": [
    "### Hypothesis Testing.\n",
    "\n",
    "[Hypothesis Link 1](https://www.investopedia.com/terms/h/hypothesistesting.asp#:~:text=Hypothesis%20testing%20is%20an%20act,hypothesis%20by%20using%20sample%20data)\n",
    "\n",
    "[Hypothesis Link 2](https://en.wikipedia.org/wiki/Statistical_hypothesis_testing)\n",
    "\n",
    "Hypothesis testing is a statistical act that tests whether an assumption is correct or not using a set of population data. It tests the validity of a **Null Hypothesis** and an **Alternative Hypothesis**. \n",
    "\n",
    "[Null/Alternative Hypothesis](https://www.investopedia.com/terms/n/null_hypothesis.asp)\n",
    "- Null Hypothesis. This proposes that no statistical significance exists in a set of observations.\n",
    "- Alternative Hypothesis. This proposes that there is a difference. \n",
    "\n",
    "Usually 4 steps in the process of testing. \n",
    "\n",
    "1. State the two hypotheses, note that only one can be right.\n",
    "2. Plan for how the testing will take place and with what data. \n",
    "3. Carry out the plan and analyze the results.\n",
    "4. Based on the results either accept or reject the null hypothesis. \n",
    "\n",
    "In the Lady Tasting Tea problem Fisher set out to demonstrate that the lady in question could not tell whether the tea or milk was added first to the tea cups, i.e. the Null Hypothesis.  \n",
    "\n",
    "He used 8 cups and randomly spplied tea or mil firsts to each of 4 cups. Based on the tasting result, the number of correct cups is determined and based on that it can be calculated what the probability of selecting that amount of correct cups from the  is. "
   ]
  },
  {
   "cell_type": "code",
   "execution_count": 11,
   "id": "416a83e2",
   "metadata": {},
   "outputs": [
    {
     "data": {
      "text/plain": [
       "[0, 1, 2, 3, 4, 5, 6, 7]"
      ]
     },
     "execution_count": 11,
     "metadata": {},
     "output_type": "execute_result"
    }
   ],
   "source": [
    "# Set up the cups\n",
    "cups = list(range(8))\n",
    "cups"
   ]
  },
  {
   "cell_type": "code",
   "execution_count": 12,
   "id": "fac83a63",
   "metadata": {},
   "outputs": [],
   "source": [
    "# https://stackoverflow.com/a/4941932\n",
    "# https://www.w3schools.com/python/ref_math_comb.asp\n",
    "# Useful function to calculate how many combinations of a set of x items be obtained from a set y items.\n",
    "# In this case it is how many combinations of 4 cups can be seletced from 8. \n",
    "import math\n",
    "from math import comb"
   ]
  },
  {
   "cell_type": "code",
   "execution_count": 19,
   "id": "c88dc161",
   "metadata": {},
   "outputs": [
    {
     "data": {
      "text/plain": [
       "70"
      ]
     },
     "execution_count": 19,
     "metadata": {},
     "output_type": "execute_result"
    }
   ],
   "source": [
    "# Calculate number of combinations.\n",
    "numcombs = comb(len(cups),4)\n",
    "numcombs"
   ]
  },
  {
   "cell_type": "code",
   "execution_count": 14,
   "id": "fc47fc3f",
   "metadata": {},
   "outputs": [
    {
     "data": {
      "text/plain": [
       "0.014285714285714285"
      ]
     },
     "execution_count": 14,
     "metadata": {},
     "output_type": "execute_result"
    }
   ],
   "source": [
    "# Probability of getting all 4 correct therefore is:\n",
    "prob = 1/combs\n",
    "prob"
   ]
  },
  {
   "cell_type": "markdown",
   "id": "8e8fd603",
   "metadata": {},
   "source": [
    "[General formula for math.comb](https://docs.python.org/3/library/math.html)\n",
    "\n",
    "n!/(k!*(n-k)!) where k is >=n. "
   ]
  },
  {
   "cell_type": "code",
   "execution_count": 15,
   "id": "01de8200",
   "metadata": {},
   "outputs": [
    {
     "data": {
      "text/plain": [
       "70.0"
      ]
     },
     "execution_count": 15,
     "metadata": {},
     "output_type": "execute_result"
    }
   ],
   "source": [
    "#Try it out\n",
    "math.factorial(8)/(math.factorial(4)*math.factorial(8-4))"
   ]
  },
  {
   "cell_type": "code",
   "execution_count": 24,
   "id": "d77848ce",
   "metadata": {},
   "outputs": [],
   "source": [
    "#Use Itertools to list out all possible combinations, order is not relevant, e.g. 0,1,4,5 is same as 1,0,5,4\n",
    "import itertools"
   ]
  },
  {
   "cell_type": "code",
   "execution_count": 30,
   "id": "580d28f8",
   "metadata": {},
   "outputs": [],
   "source": [
    "# Generate all the combinations.\n",
    "listcombs = list(itertools.combinations(cups,4))"
   ]
  },
  {
   "cell_type": "markdown",
   "id": "daa76c4a",
   "metadata": {},
   "source": [
    "This means that there is only a 1 in 70 (~ 0.0143) chance that the lady could identify correctly 4 out of the 8 cups. If in fact she made a correct selection you could conclude that this was not by chance alone and the null hypothesis would be rejected, i.e. she can discriminate by taste alone whether tea or milk is added first. "
   ]
  },
  {
   "cell_type": "markdown",
   "id": "b1ae458c",
   "metadata": {},
   "source": [
    "What if she selected 3 correctly, what woudl that look like. In order to do this need to look at the number of possibilities for any selction from the 70 having 0, 1, 2, 3 or 4 correct. "
   ]
  },
  {
   "cell_type": "code",
   "execution_count": 39,
   "id": "93280091",
   "metadata": {},
   "outputs": [],
   "source": [
    "import random\n",
    "from matplotlib import pyplot as plt\n",
    "import seaborn as sns"
   ]
  },
  {
   "cell_type": "code",
   "execution_count": 40,
   "id": "0849cf62",
   "metadata": {},
   "outputs": [
    {
     "data": {
      "text/plain": [
       "{0, 2, 3, 6}"
      ]
     },
     "execution_count": 40,
     "metadata": {},
     "output_type": "execute_result"
    }
   ],
   "source": [
    "# Pick a random correct answer from the list of 70 to simulate the experiment.\n",
    "milkfirst = set(random.choice(listcombs))\n",
    "milkfirst"
   ]
  },
  {
   "cell_type": "code",
   "execution_count": 76,
   "id": "6f7c562e",
   "metadata": {
    "scrolled": true
   },
   "outputs": [
    {
     "data": {
      "text/plain": [
       "<function matplotlib.pyplot.show(close=None, block=None)>"
      ]
     },
     "execution_count": 76,
     "metadata": {},
     "output_type": "execute_result"
    },
    {
     "data": {
      "image/png": "[encoded data removed]",
      "text/plain": [
       "<Figure size 432x288 with 1 Axes>"
      ]
     },
     "metadata": {
      "needs_background": "light"
     },
     "output_type": "display_data"
    }
   ],
   "source": [
    "# Count the overlap between the correct answer, and each of the 70 possiblities.\n",
    "counts = [len(milkfirst & set(i)) for i in listcombs]\n",
    "\n",
    "# Creat the plot.\n",
    "ax = sns.countplot(x=counts)\n",
    "ax.set_xlabel('Correct Selections')\n",
    "ax.set_ylabel('count')\n",
    "ax.set_title('Fishers Tea Test Distribution')\n",
    "plt.show"
   ]
  },
  {
   "cell_type": "markdown",
   "id": "b9a7bf44",
   "metadata": {},
   "source": [
    "From the distribution it is clear that while there is only one outcome for either getting all right or wrong there are many possibilities of getting 1, 2 or 3. This shows that even getting 3 correct could arise by chance given the number of possibilities."
   ]
  },
  {
   "cell_type": "code",
   "execution_count": null,
   "id": "e6ff0e8a",
   "metadata": {},
   "outputs": [],
   "source": [
    "Next steps, do the exercises"
   ]
  },
  {
   "cell_type": "code",
   "execution_count": null,
   "id": "528a36a5",
   "metadata": {},
   "outputs": [],
   "source": []
  },
  {
   "cell_type": "markdown",
   "id": "0d58ba1a",
   "metadata": {},
   "source": [
    "Exercise 1.1\n",
    "\n",
    "The above gives about a 1.5% chance of randomly selecting the correct cups. Calculate the minimum number of cups of tea required to ensure the probability of randomly selecting the correct cups is less than or equal to 1%."
   ]
  },
  {
   "cell_type": "markdown",
   "id": "2be402ce",
   "metadata": {},
   "source": [
    "Exercise 1.2\n",
    "\n",
    "*Bonus:* How many would be required if you were to let the taster get one cup wrong while maintaining the 1% threshold?"
   ]
  },
  {
   "cell_type": "markdown",
   "id": "6faa9ec8",
   "metadata": {},
   "source": [
    "Exercise 1.3\n",
    "Use <a href=\"https://docs.scipy.org/doc/scipy/reference/generated/scipy.stats.fisher_exact.html\" style=\"color: #ff791e\">scipy's version of Fisher's exact test</a> to simulate the Lady Tasting Tea problem."
   ]
  },
  {
   "cell_type": "code",
   "execution_count": null,
   "id": "cdfa8414",
   "metadata": {},
   "outputs": [],
   "source": []
  }
 ],
 "metadata": {
  "kernelspec": {
   "display_name": "Python 3",
   "language": "python",
   "name": "python3"
  },
  "language_info": {
   "codemirror_mode": {
    "name": "ipython",
    "version": 3
   },
   "file_extension": ".py",
   "mimetype": "text/x-python",
   "name": "python",
   "nbconvert_exporter": "python",
   "pygments_lexer": "ipython3",
   "version": "3.8.8"
  }
 },
 "nbformat": 4,
 "nbformat_minor": 5
}
