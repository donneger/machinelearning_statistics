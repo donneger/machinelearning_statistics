{
 "cells": [
  {
   "cell_type": "markdown",
   "id": "e803e970",
   "metadata": {},
   "source": [
    "Machine Learning and Statistics\n",
    "\n",
    "Practical Exercises.\n",
    "\n"
   ]
  },
  {
   "cell_type": "markdown",
   "id": "0d58ba1a",
   "metadata": {},
   "source": [
    "Exercise 1.1\n",
    "\n",
    "The above gives about a 1.5% chance of randomly selecting the correct cups. Calculate the minimum number of cups of tea required to ensure the probability of randomly selecting the correct cups is less than or equal to 1%."
   ]
  },
  {
   "cell_type": "code",
   "execution_count": 1,
   "id": "416a83e2",
   "metadata": {},
   "outputs": [
    {
     "data": {
      "text/plain": [
       "[0, 1, 2, 3, 4, 5, 6, 7]"
      ]
     },
     "execution_count": 1,
     "metadata": {},
     "output_type": "execute_result"
    }
   ],
   "source": [
    "cups = list(range(8))\n",
    "cups"
   ]
  },
  {
   "cell_type": "code",
   "execution_count": 15,
   "id": "fac83a63",
   "metadata": {},
   "outputs": [],
   "source": [
    "# https://stackoverflow.com/a/4941932\n",
    "# https://www.w3schools.com/python/ref_math_comb.asp\n",
    "\n",
    "import math\n",
    "from math import comb"
   ]
  },
  {
   "cell_type": "code",
   "execution_count": 21,
   "id": "c88dc161",
   "metadata": {},
   "outputs": [
    {
     "data": {
      "text/plain": [
       "126"
      ]
     },
     "execution_count": 21,
     "metadata": {},
     "output_type": "execute_result"
    }
   ],
   "source": [
    "# Calculate number of combinations.\n",
    "combs = comb(9,4)\n",
    "combs"
   ]
  },
  {
   "cell_type": "code",
   "execution_count": 17,
   "id": "fc47fc3f",
   "metadata": {},
   "outputs": [
    {
     "data": {
      "text/plain": [
       "0.014285714285714285"
      ]
     },
     "execution_count": 17,
     "metadata": {},
     "output_type": "execute_result"
    }
   ],
   "source": [
    "# Probability is 1/ number of combinations.\n",
    "prob = 1/combs\n",
    "prob"
   ]
  },
  {
   "cell_type": "code",
   "execution_count": 23,
   "id": "01de8200",
   "metadata": {},
   "outputs": [
    {
     "data": {
      "text/plain": [
       "362880"
      ]
     },
     "execution_count": 23,
     "metadata": {},
     "output_type": "execute_result"
    }
   ],
   "source": [
    "math.factorial(9)"
   ]
  },
  {
   "cell_type": "code",
   "execution_count": 22,
   "id": "c8b281b5",
   "metadata": {},
   "outputs": [
    {
     "data": {
      "text/plain": [
       "2880"
      ]
     },
     "execution_count": 22,
     "metadata": {},
     "output_type": "execute_result"
    }
   ],
   "source": [
    "math.factorial(4)*math.factorial(9-4)"
   ]
  },
  {
   "cell_type": "code",
   "execution_count": null,
   "id": "0334c5ab",
   "metadata": {},
   "outputs": [],
   "source": []
  },
  {
   "cell_type": "code",
   "execution_count": null,
   "id": "392b9ac1",
   "metadata": {},
   "outputs": [],
   "source": []
  },
  {
   "cell_type": "code",
   "execution_count": null,
   "id": "e6ff0e8a",
   "metadata": {},
   "outputs": [],
   "source": []
  },
  {
   "cell_type": "markdown",
   "id": "2be402ce",
   "metadata": {},
   "source": [
    "Exercise 1.2\n",
    "\n",
    "*Bonus:* How many would be required if you were to let the taster get one cup wrong while maintaining the 1% threshold?"
   ]
  },
  {
   "cell_type": "code",
   "execution_count": null,
   "id": "528a36a5",
   "metadata": {},
   "outputs": [],
   "source": []
  },
  {
   "cell_type": "code",
   "execution_count": null,
   "id": "d9ee1ebc",
   "metadata": {},
   "outputs": [],
   "source": []
  }
 ],
 "metadata": {
  "kernelspec": {
   "display_name": "Python 3",
   "language": "python",
   "name": "python3"
  },
  "language_info": {
   "codemirror_mode": {
    "name": "ipython",
    "version": 3
   },
   "file_extension": ".py",
   "mimetype": "text/x-python",
   "name": "python",
   "nbconvert_exporter": "python",
   "pygments_lexer": "ipython3",
   "version": "3.8.8"
  }
 },
 "nbformat": 4,
 "nbformat_minor": 5
}
