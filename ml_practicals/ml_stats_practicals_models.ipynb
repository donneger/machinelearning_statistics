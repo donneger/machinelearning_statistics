{
 "cells": [
  {
   "attachments": {},
   "cell_type": "markdown",
   "id": "06a389f4",
   "metadata": {},
   "source": [
    "<h1 align=\"center\">Machine Learning and Statistics</h1>"
   ]
  },
  {
   "attachments": {},
   "cell_type": "markdown",
   "id": "c448da7b",
   "metadata": {},
   "source": [
    "## Notebook for ML Models: Notes and Practical Exercises"
   ]
  },
  {
   "cell_type": "markdown",
   "id": "a0e7c360",
   "metadata": {},
   "source": [
    "1. What is a Mathematical model\n",
    "2. Develop a model based on data points\n",
    "3. Run code to find the best parameters\n",
    "4. Solve a modelling problem analytically. "
   ]
  },
  {
   "attachments": {},
   "cell_type": "markdown",
   "id": "62a36bb9",
   "metadata": {},
   "source": [
    "1. Mathematical Models\n",
    "   https://en.wikipedia.org/wiki/Mathematical_model\n",
    "   At its most basic a mathematical model is simply a way of representing the real world using maths and maths equations. Everyting from forecasting the weather, the stock market, the movement of the stars and somewhat more recently machine learning models, to name a few, rely on the use of maths to turn these into numerical models that allow for a complete description of how they behave and how they are likely to behave. \n",
    "\n",
    "   For example take a very simple equatation \n",
    "\n",
    "    - y = 3x+2\n",
    "\n",
    "   What this equatation describes is the relationship between some independant variable x, and a dependant variable y. We say y is a dependant variable as its value clearly depends on the value of x, i.e. it will always be 3 times the value of x plus 2, and when x = 0 then will be equal to 2. In general the value of y will change at a rate 3 times that of x, for every unit change in x, the value of y will change by 3 times the unit change of x.\n",
    "\n",
    "   In general terms the equation of a straight line is:\n",
    "   \n",
    "   - y = mx+c. \n",
    "   \n",
    "   m is the slope, the greater m the more y changes with x. c is a constant and represents the value of y when x = 0, i.e. the point on the y axis where the line crosses at x = 0 in a plot of the equatation. \n",
    "\n",
    "   From a purely machine learning perspective having this equatation means that for every value of x we can predict what the value of y will be, even when x is 0. This equatation, simple and limited it may be, is still a perfect predictor for the dependant value y. \n",
    "\n",
    "   Coming from the opposite perspective, in the real world we often have lots of data, the challenge is trying to discover what is the relationship between sets of data that can be defined numerically coming from a system, i.e. what is the formula or formulas that govern the relationship between system variables that will allow for a model of the system to be created that can describe and predict its behaviours.  \n",
    "    \n",
    "   This leads on to the concept of Linear Regression, i.e. the data is available, what is the equation governing the relationship. In practice real world data is not straightforward, there can be a lot of \"noise\" in the data, i.e. data points that fall outside a pure linear equataton like the one above. The challenge for linear regression is to find the mathematical relationship that most closely matches the available data. \n",
    "\n",
    "   Below are some plot examples to demonstrate a linear equatation. "
   ]
  },
  {
   "cell_type": "code",
   "execution_count": 1,
   "id": "dcd14e38",
   "metadata": {},
   "outputs": [],
   "source": [
    "# https://matplotlib.org/stable/api/_as_gen/matplotlib.pyplot.plot.html\n",
    "# https://numpy.org/\n",
    "# Will use numpy for generating maths functions and matplotlib for plotting same. \n",
    "import numpy as np\n",
    "import matplotlib.pyplot as plt\n",
    "\n",
    "# Set standard output plot size. \n",
    "plt.rcParams['figure.figsize'] = (8,6)"
   ]
  },
  {
   "cell_type": "code",
   "execution_count": 2,
   "id": "9deb4b2a",
   "metadata": {},
   "outputs": [
    {
     "data": {
      "image/png": "[encoded data removed]",
      "text/plain": [
       "<Figure size 576x432 with 1 Axes>"
      ]
     },
     "metadata": {
      "needs_background": "light"
     },
     "output_type": "display_data"
    }
   ],
   "source": [
    "# This plot shows the equatation y = 2x+c in the x range -1 to 5. \n",
    "# Set the range of x values\n",
    "x_val = [x for x in range(-1, 6)]\n",
    "\n",
    "# Draw x and y axes and set the linewidth. \n",
    "plt.plot([-1, 10], [0, 0], 'b', lw=3)\n",
    "plt.plot([0, 0], [-1, 12], 'b', lw=3)\n",
    "\n",
    "# Set the values of m and b\n",
    "m = 2\n",
    "c = 1\n",
    "\n",
    "# Calculate the corresponding y values\n",
    "y = [m*x + c for x in x_val]\n",
    "\n",
    "# Plot the points (x, y)\n",
    "plt.plot(x_val, y)\n",
    "\n",
    "# Add labels to the axes\n",
    "plt.xlabel('x')\n",
    "plt.ylabel('y')\n",
    "\n",
    "plt.grid()\n",
    "# Show the plot\n",
    "plt.show()"
   ]
  },
  {
   "attachments": {},
   "cell_type": "markdown",
   "id": "0fdfc643",
   "metadata": {},
   "source": [
    "Unlike the plot above the code and plot below is intended to demonstrate a more realistice picture of real world data where the concept of \"noise\" is introduced."
   ]
  },
  {
   "cell_type": "code",
   "execution_count": 3,
   "id": "95a0e3e3",
   "metadata": {},
   "outputs": [
    {
     "data": {
      "text/plain": [
       "array([ 0,  1,  2,  3,  4,  5,  6,  7,  8,  9, 10, 11, 12, 13, 14, 15, 16,\n",
       "       17, 18, 19, 20])"
      ]
     },
     "execution_count": 3,
     "metadata": {},
     "output_type": "execute_result"
    }
   ],
   "source": [
    "# Use the numpy arange function to get a series of values that will be used for x, in this case from 0 to 20 (always one leas than the upper number specified.)\n",
    "x = np.arange(0,21,1)\n",
    "x"
   ]
  },
  {
   "cell_type": "code",
   "execution_count": 4,
   "id": "8353ed7d",
   "metadata": {},
   "outputs": [
    {
     "data": {
      "text/plain": [
       "array([ 3.13001444, -7.97957958, -3.48076757,  3.44166875,  5.33100112,\n",
       "       -3.37461193, -1.28125338, -2.6534148 ,  1.74266144,  1.62182338,\n",
       "        4.17386414,  0.64005478, -1.44128518, -9.34869385,  2.79518495,\n",
       "       -6.90861478,  3.34820604, -3.23427194,  1.5723835 ,  1.7934011 ,\n",
       "        4.77303049])"
      ]
     },
     "execution_count": 4,
     "metadata": {},
     "output_type": "execute_result"
    }
   ],
   "source": [
    "# Generate y values that include a level of randomness using the numpy random.normal (gaussian) function. \n",
    "# Generate the smae number of values as x.\n",
    "# In this case it is a normal distribution with a mean of 0,standard deviation of 5 and will have 21 values, same as x. \n",
    "# This will be the \"noise\" or randomness in the data. \n",
    "y1 = np.random.normal(0,5,x.size)\n",
    "y1"
   ]
  },
  {
   "cell_type": "code",
   "execution_count": 5,
   "id": "f8ea4c7f",
   "metadata": {},
   "outputs": [
    {
     "data": {
      "text/plain": [
       "array([ 10,  15,  20,  25,  30,  35,  40,  45,  50,  55,  60,  65,  70,\n",
       "        75,  80,  85,  90,  95, 100, 105, 110])"
      ]
     },
     "execution_count": 5,
     "metadata": {},
     "output_type": "execute_result"
    }
   ],
   "source": [
    "# Generate simple linear values for y. \n",
    "y2 = 5*x+10\n",
    "y2"
   ]
  },
  {
   "cell_type": "code",
   "execution_count": 6,
   "id": "a9797ecc",
   "metadata": {},
   "outputs": [],
   "source": [
    "# Add the noise to the linear values. \n",
    "y = y1+y2\n"
   ]
  },
  {
   "cell_type": "code",
   "execution_count": 7,
   "id": "b1302b5b",
   "metadata": {},
   "outputs": [
    {
     "data": {
      "image/png": "[encoded data removed]",
      "text/plain": [
       "<Figure size 576x432 with 1 Axes>"
      ]
     },
     "metadata": {
      "needs_background": "light"
     },
     "output_type": "display_data"
    }
   ],
   "source": [
    "# Plot the noisy data, give them units of measure for effect.  \n",
    "plt.xlabel('Weight (KG)')\n",
    "plt.ylabel('Distance (CM)')\n",
    "plt.plot(x,y,'k.');"
   ]
  },
  {
   "attachments": {},
   "cell_type": "markdown",
   "id": "461bf1d4",
   "metadata": {},
   "source": [
    "So now we have a graph that could approximate some real world data. While we know the equations from which it was derived the more usual situation is that we will have this data but NOT know what the x / y relationship is. The challenge is to find some methodology that allows for the relationship to be defined from the available data. \n",
    "\n",
    "[Central Limit Theorem](https://sphweb.bumc.bu.edu/otlt/mph-modules/bs/bs704_probability/BS704_Probability12.html#:~:text=The%20central%20limit%20theorem%20states,will%20be%20approximately%20normally%20distributed)\n",
    "\n",
    "This leads on to the Central Limit Theorem that states that the means of a set of independant, sufficiently large samples, randomly selected from a population will themselves be normally distributed even if the original population is not normally distributed. The significance of this is that the normal probability model can be used to quantify uncertainty when making inferences about a population mean based on the sample data.\n",
    "\n",
    "This means that we can use statistical methods, such as hypothesis testing, to be able to infer relationships between variables. "
   ]
  },
  {
   "attachments": {},
   "cell_type": "markdown",
   "id": "09a1f5c8",
   "metadata": {},
   "source": [
    "### Fitting the Line\n",
    "So now that we have a plot of data we can look at methods to estimate what the relationship might be, assuming we do not know it in the first place. "
   ]
  },
  {
   "cell_type": "code",
   "execution_count": 8,
   "id": "d06be65f",
   "metadata": {},
   "outputs": [
    {
     "data": {
      "image/png": "[encoded data removed]",
      "text/plain": [
       "<Figure size 576x432 with 1 Axes>"
      ]
     },
     "metadata": {
      "needs_background": "light"
     },
     "output_type": "display_data"
    }
   ],
   "source": [
    "# Plot weight versus distance as above. \n",
    "plt.plot(x, y, 'k.', label=\"Data\")\n",
    "\n",
    "# Overlay some lines on the plot.\n",
    "x1 = np.arange(0.0, 21.0, 1.0)\n",
    "\n",
    "# From a view of the original plot it may be possible to make a guesstimate of what the relationship is between both variables. \n",
    "plt.plot(x1, 5.0 * x + 10.0, 'r-', label=r\"$5x1 + 10$\")\n",
    "plt.plot(x1, 6.0 * x +  5.0, 'g-', label=r\"$6x1 +  5$\")\n",
    "plt.plot(x1, 5.0 * x + 15.0, 'b-', label=r\"$5x1 + 15$\")\n",
    "\n",
    "# Add a legend.\n",
    "plt.legend()\n",
    "\n",
    "# Add axis labels.\n",
    "plt.xlabel('Weight (KG)')\n",
    "plt.ylabel('Distance (CM)')\n",
    "\n",
    "# Show the plot.\n",
    "plt.show()"
   ]
  },
  {
   "attachments": {},
   "cell_type": "markdown",
   "id": "c1004759",
   "metadata": {},
   "source": [
    "While the estimate lines look \"reasonable\" it is clear that guess alone is not going to be enough to find the real closest fit. Note that a line that actually joins all the data points is of no practical value in terms of being able to make predictions about unseen values as it is only valid for the data that is available. This is known as overfitting and is something that design of all ML models need to guard against. \n",
    "\n",
    "What is needed is a line where the sum of all the differences between each data point and the line is a minimum. \n",
    "The objective is to find the line from all possible lines that has the minimum sum of all the squares of the values of these points distances betweenit and the data. Values are squared to take care of the negative values.\n",
    "\n",
    "https://www.simplilearn.com/tutorials/machine-learning-tutorial/cost-function-in-machine-learning\n",
    "This is known as the Cost Function and expressed below. \n",
    "\n",
    "$$\\sum_{i}(y_i - mx_i -c)^2$$"
   ]
  },
  {
   "cell_type": "code",
   "execution_count": 9,
   "id": "3278c789",
   "metadata": {},
   "outputs": [
    {
     "name": "stdout",
     "output_type": "stream",
     "text": [
      "Cost with m =  5.00 and c = 10.00:   364.58\n",
      "Cost with m =  6.00 and c =  5.00:  1598.20\n",
      "Cost with m =  5.00 and c = 15.00:   942.97\n"
     ]
    }
   ],
   "source": [
    "# As an example calculate the cost of each of the the lines above for the data.\n",
    "# Use a lambda function to calculate. A lambda function is a small inline function that can have multiple arguments but consist of a single calculation on those arguments. Here the values of m and c are passed to the function and the cost caluclated using the formula above.\n",
    "cost = lambda m,c: np.sum([(y[i] - m * x[i] - c)**2 for i in range(x.size)])\n",
    "\n",
    "print(\"Cost with m = %5.2f and c = %5.2f: %8.2f\" % (5.0, 10.0, cost(5.0, 10.0)))\n",
    "print(\"Cost with m = %5.2f and c = %5.2f: %8.2f\" % (6.0,  5.0, cost(6.0,  5.0)))\n",
    "print(\"Cost with m = %5.2f and c = %5.2f: %8.2f\" % (5.0, 15.0, cost(5.0, 15.0)))"
   ]
  },
  {
   "attachments": {},
   "cell_type": "markdown",
   "id": "0fed26f9",
   "metadata": {},
   "source": [
    "### Optimisation\n",
    "It is no surprise that the line with the same values of m and c that were used to create the dataset in the first place appear to have the lowest cost, but even that is no guarantee that this is actually the lowest cost possible. What is needed is a method to calculate the variables for the equation that will give this lowest cost. This is where Optimization comes in being the problem of finding a numerical solution to a minimisation problem.\n",
    "\n",
    "We canmake use of Scipy, this is a set of mathematical functions built on top of Numpy that facilitate calculations in areas such as optimization and liner functions. Specifically the Scipy optimize function can be used the find the minimum the cost function of a set of data. \n",
    "\n",
    "https://docs.scipy.org/doc/scipy/reference/generated/scipy.optimize.minimize.html\n",
    "\n",
    "https://scipy-lectures.org/intro/scipy.html\n",
    "\n",
    "What do you need. \n",
    "1. Function. The function to be minimised. \n",
    "2. Data.\n",
    "3. Calculation Method"
   ]
  },
  {
   "cell_type": "code",
   "execution_count": 10,
   "id": "3e777bda",
   "metadata": {},
   "outputs": [],
   "source": [
    "# Get the Optimize module from scipy. \n",
    "from scipy import optimize as so"
   ]
  },
  {
   "cell_type": "code",
   "execution_count": 11,
   "id": "96c3b68c",
   "metadata": {},
   "outputs": [
    {
     "data": {
      "text/plain": [
       "(array([ 0,  1,  2,  3,  4,  5,  6,  7,  8,  9, 10, 11, 12, 13, 14, 15, 16,\n",
       "        17, 18, 19, 20]),\n",
       " array([ 12.37951395,  14.47500109,  25.91470123,  21.69624819,\n",
       "         32.20309288,  35.75038987,  50.49070844,  38.10696491,\n",
       "         56.77503079,  61.17528943,  67.50644842,  71.07141554,\n",
       "         67.88690558,  74.04415482,  86.42392168,  80.34214992,\n",
       "         87.96091384,  96.01226283,  86.99740259, 107.28940987,\n",
       "        109.19003667]))"
      ]
     },
     "execution_count": 11,
     "metadata": {},
     "output_type": "execute_result"
    }
   ],
   "source": [
    "# Generate the x independant variable, 20 integer values between 0 and 20. \n",
    "x = np.arange(0,21,1)\n",
    "\n",
    "# generate some random noise.\n",
    "randpart = np.random.normal(0,5,x.size)\n",
    "\n",
    "# Generate the dependant variable y as 5x + 10 + noise.\n",
    "y = 5*x+10+randpart\n",
    "\n",
    "# Dataset is below and plotted \n",
    "x,y"
   ]
  },
  {
   "cell_type": "code",
   "execution_count": 12,
   "id": "113e5d2f",
   "metadata": {},
   "outputs": [
    {
     "data": {
      "image/png": "[encoded data removed]",
      "text/plain": [
       "<Figure size 576x432 with 1 Axes>"
      ]
     },
     "metadata": {
      "needs_background": "light"
     },
     "output_type": "display_data"
    }
   ],
   "source": [
    "plt.plot(x,y, 'b.')\n",
    "plt.show()"
   ]
  },
  {
   "cell_type": "code",
   "execution_count": 13,
   "id": "2af5900e",
   "metadata": {},
   "outputs": [],
   "source": [
    "# Basic Cost function. Note the function has to take a single argument.\n",
    "def cost (MC):\n",
    "    m,c = MC\n",
    "    cost = np.sum((y - m*x - c)**2)\n",
    "    return cost"
   ]
  },
  {
   "cell_type": "code",
   "execution_count": 14,
   "id": "bebfbaca",
   "metadata": {},
   "outputs": [
    {
     "data": {
      "text/plain": [
       "640.5545441477644"
      ]
     },
     "execution_count": 14,
     "metadata": {},
     "output_type": "execute_result"
    }
   ],
   "source": [
    "# Test it out.\n",
    "cost((5,10))"
   ]
  },
  {
   "cell_type": "code",
   "execution_count": 15,
   "id": "0db45215",
   "metadata": {},
   "outputs": [
    {
     "data": {
      "text/plain": [
       "      fun: 563.6688601411923\n",
       " hess_inv: array([[ 0.00064935, -0.00649351],\n",
       "       [-0.00649351,  0.08874461]])\n",
       "      jac: array([ 0.00000000e+00, -7.62939453e-06])\n",
       "  message: 'Optimization terminated successfully.'\n",
       "     nfev: 18\n",
       "      nit: 4\n",
       "     njev: 6\n",
       "   status: 0\n",
       "  success: True\n",
       "        x: array([ 4.74477747, 13.68041394])"
      ]
     },
     "execution_count": 15,
     "metadata": {},
     "output_type": "execute_result"
    }
   ],
   "source": [
    "# Here use the scipy.optimize.minimise function. It takes 2 arguments, the function to be minimised and an initial guess.\n",
    "# Here guessing m=4, c=6, could be any 2 numbers.  \n",
    "result=so.minimize(cost,(4,6))\n",
    "result"
   ]
  },
  {
   "attachments": {},
   "cell_type": "markdown",
   "id": "89008d19",
   "metadata": {},
   "source": [
    "The output from the optimisation is provided from the optimiser with a message that is was successful in finding a minimum. In this case x: array gives the values of m and c respectively and fun: is the cost value of the function at those 2 values. nfev gives the number of runs that were performed by the function to get to the minimum. Status of 0 indicates the run was successful, a 1 or 2 would indicate that the minimum was not found within the maximum number of evaluations. "
   ]
  },
  {
   "cell_type": "code",
   "execution_count": 16,
   "id": "ff543577",
   "metadata": {},
   "outputs": [
    {
     "data": {
      "text/plain": [
       "(4.744777465344544, 13.68041394126662)"
      ]
     },
     "execution_count": 16,
     "metadata": {},
     "output_type": "execute_result"
    }
   ],
   "source": [
    "# Now plot this line against the original data. \n",
    "# Get the m and c values from the result above\n",
    "m_opt, c_opt = result.x\n",
    "m_opt, c_opt"
   ]
  },
  {
   "cell_type": "code",
   "execution_count": 17,
   "id": "9e594630",
   "metadata": {},
   "outputs": [
    {
     "data": {
      "image/png": "[encoded data removed]",
      "text/plain": [
       "<Figure size 864x648 with 1 Axes>"
      ]
     },
     "metadata": {
      "needs_background": "light"
     },
     "output_type": "display_data"
    }
   ],
   "source": [
    "# Plot the figure of the original data points and the optimised line from scipy. \n",
    "fig, ax =plt.subplots(figsize=(12,9))\n",
    "\n",
    "ax.plot(x,y, 'b.', label=\"original\")\n",
    "ax.plot(x, x*m_opt+c_opt, 'r' ,label = 'optimised')\n",
    "ax.legend();"
   ]
  },
  {
   "cell_type": "code",
   "execution_count": 18,
   "id": "e8226831",
   "metadata": {},
   "outputs": [],
   "source": [
    "## Playing around with optimise from https://realpython.com/python-scipy-cluster-optimize/"
   ]
  },
  {
   "cell_type": "code",
   "execution_count": 19,
   "id": "6b047b7e",
   "metadata": {},
   "outputs": [
    {
     "data": {
      "text/plain": [
       "array([1.        , 0.95918419, 0.91837567, 0.87759317, 0.83686792,\n",
       "       0.79624362, 0.75577648, 0.71553519, 0.67560094, 0.6360674 ,\n",
       "       0.59704073, 0.55863958, 0.52099509, 0.48425089, 0.4485631 ,\n",
       "       0.41410033, 0.38104368, 0.34958674, 0.31993559, 0.29230879,\n",
       "       0.2669374 , 0.24406497, 0.22394754, 0.20685363, 0.19306425,\n",
       "       0.18287292, 0.17658563, 0.17452086, 0.17700958, 0.18439526,\n",
       "       0.19703386, 0.21529381, 0.23955606, 0.27021401, 0.30767359,\n",
       "       0.35235319, 0.4046837 , 0.46510851, 0.53408348, 0.61207698,\n",
       "       0.69956986, 0.79705544, 0.90503957, 1.02404055, 1.1545892 ,\n",
       "       1.29722882, 1.45251519, 1.62101658, 1.80331377, 2.        ])"
      ]
     },
     "execution_count": 19,
     "metadata": {},
     "output_type": "execute_result"
    }
   ],
   "source": [
    "# Using the example to try out. \n",
    "x = np.linspace(0, 1)\n",
    "\n",
    "# function is y = 3x^4 - 2x + 1\n",
    "y = 3*np.power(x,4)-2*x+1\n",
    "y"
   ]
  },
  {
   "cell_type": "code",
   "execution_count": 20,
   "id": "108f5569",
   "metadata": {},
   "outputs": [
    {
     "data": {
      "image/png": "[encoded data removed]",
      "text/plain": [
       "<Figure size 576x432 with 1 Axes>"
      ]
     },
     "metadata": {
      "needs_background": "light"
     },
     "output_type": "display_data"
    }
   ],
   "source": [
    "# Simple plot of the function. \n",
    "plt.plot(x,y, 'b.');"
   ]
  },
  {
   "cell_type": "code",
   "execution_count": 21,
   "id": "8235ddcf",
   "metadata": {},
   "outputs": [],
   "source": [
    "# defining the function to be used in the minimize calculation.\n",
    "def f(x):\n",
    "    y = 3*np.power(x,4)-2*x +1\n",
    "    return y"
   ]
  },
  {
   "cell_type": "code",
   "execution_count": 22,
   "id": "7716d033",
   "metadata": {},
   "outputs": [
    {
     "data": {
      "text/plain": [
       "      fun: 0.1745181877770634\n",
       " hess_inv: array([[0.09130335]])\n",
       "      jac: array([4.04566526e-06])\n",
       "  message: 'Optimization terminated successfully.'\n",
       "     nfev: 22\n",
       "      nit: 10\n",
       "     njev: 11\n",
       "   status: 0\n",
       "  success: True\n",
       "        x: array([0.55032157])"
      ]
     },
     "execution_count": 22,
     "metadata": {},
     "output_type": "execute_result"
    }
   ],
   "source": [
    "# Using minimise, calling the function with aguess of 3 for the value of x at the minimum. \n",
    "result = so.minimize(f,3)\n",
    "\n",
    "# The result of the optimizer is shown below. From a visual inspection of the plot it is very much in alignment with the result of the scipy function. \n",
    "result"
   ]
  },
  {
   "cell_type": "code",
   "execution_count": 23,
   "id": "8ba02979",
   "metadata": {},
   "outputs": [
    {
     "data": {
      "text/plain": [
       "     fun: 0.17451818777634331\n",
       "    nfev: 16\n",
       "     nit: 12\n",
       " success: True\n",
       "       x: 0.5503212087491959"
      ]
     },
     "execution_count": 23,
     "metadata": {},
     "output_type": "execute_result"
    }
   ],
   "source": [
    "# Using minimize_scalar. This may be more appropriate where the function only has one variable. \n",
    "result = so.minimize_scalar(f)\n",
    "result"
   ]
  },
  {
   "cell_type": "code",
   "execution_count": 24,
   "id": "29358bc9",
   "metadata": {},
   "outputs": [
    {
     "data": {
      "text/plain": [
       "(0.5503212087491959, 0.17451818777634331)"
      ]
     },
     "execution_count": 24,
     "metadata": {},
     "output_type": "execute_result"
    }
   ],
   "source": [
    "#Values of x (0.550321) and the resulting function value for y (0.174518187) at that value of x look same for both. \n",
    "result.x, result.fun"
   ]
  },
  {
   "attachments": {},
   "cell_type": "markdown",
   "id": "4138c3dd",
   "metadata": {},
   "source": [
    "### Exercise 1\n",
    "---\n",
    "Use numpy and matplotlib to plot the absolute value function.\n",
    "\n",
    "Research and explain why the absolute value function is not typically used in fitting straight lines to data.\n",
    "\n",
    "https://www.bradthiessen.com/html5/docs/ols.pdf\n",
    "\n",
    "Really good document explaining the background to least squares vs absolute values in regression. "
   ]
  },
  {
   "cell_type": "code",
   "execution_count": 25,
   "id": "96c3b68c",
   "metadata": {},
   "outputs": [
    {
     "data": {
      "text/plain": [
       "(array([ 0,  1,  2,  3,  4,  5,  6,  7,  8,  9, 10, 11, 12, 13, 14, 15, 16,\n",
       "        17, 18, 19, 20]),\n",
       " array([  1.52404673,   9.36738669,  23.6778015 ,  24.99331899,\n",
       "         31.67146046,  36.43782906,  39.06695152,  42.45868316,\n",
       "         57.39508468,  56.46847063,  55.16556569,  68.75676843,\n",
       "         71.9789341 ,  72.56252256,  85.43523738,  80.82006841,\n",
       "         89.51691452,  97.0985444 , 112.19697677,  99.14051864,\n",
       "        112.9229615 ]))"
      ]
     },
     "execution_count": 25,
     "metadata": {},
     "output_type": "execute_result"
    }
   ],
   "source": [
    "# Generate the x independant variable, 20 integer values between 0 and 20. \n",
    "x = np.arange(0,21,1)\n",
    "\n",
    "# generate some random noise.\n",
    "randpart = np.random.normal(0,5,x.size)\n",
    "\n",
    "# Generate the dependant variable y as 5x + 10 + noise.\n",
    "y = 5*x+10+randpart\n",
    "\n",
    "# Dataset is below and plotted \n",
    "x,y"
   ]
  },
  {
   "cell_type": "code",
   "execution_count": 26,
   "id": "2af5900e",
   "metadata": {},
   "outputs": [],
   "source": [
    "# Basic Cost function. Note the function has to take a single argument.\n",
    "def cost_sq (MC):\n",
    "    m,c = MC\n",
    "    cost_sq = np.sum((y - m*x - c)**2)\n",
    "    return cost_sq"
   ]
  },
  {
   "cell_type": "code",
   "execution_count": 27,
   "id": "bebfbaca",
   "metadata": {},
   "outputs": [
    {
     "data": {
      "text/plain": [
       "476.76497406632654"
      ]
     },
     "execution_count": 27,
     "metadata": {},
     "output_type": "execute_result"
    }
   ],
   "source": [
    "# Test it out.\n",
    "cost_sq((5,10))"
   ]
  },
  {
   "cell_type": "code",
   "execution_count": 28,
   "id": "2af5900e",
   "metadata": {},
   "outputs": [],
   "source": [
    "# Basic Cost function. Note the function has to take a single argument.\n",
    "def cost_abs(MC):\n",
    "    m,c = MC\n",
    "    cost_abs = np.sum(abs(y - m*x - c))\n",
    "    return cost_abs"
   ]
  },
  {
   "cell_type": "code",
   "execution_count": 29,
   "id": "bebfbaca",
   "metadata": {},
   "outputs": [
    {
     "data": {
      "text/plain": [
       "79.42409201516001"
      ]
     },
     "execution_count": 29,
     "metadata": {},
     "output_type": "execute_result"
    }
   ],
   "source": [
    "# Test it out.\n",
    "cost_abs((5,10))"
   ]
  }
 ],
 "metadata": {
  "kernelspec": {
   "display_name": "base",
   "language": "python",
   "name": "python3"
  },
  "language_info": {
   "codemirror_mode": {
    "name": "ipython",
    "version": 3
   },
   "file_extension": ".py",
   "mimetype": "text/x-python",
   "name": "python",
   "nbconvert_exporter": "python",
   "pygments_lexer": "ipython3",
   "version": "3.8.8"
  },
  "vscode": {
   "interpreter": {
    "hash": "026d2eec43adaaf55ed4ec0c8a3ceda1934c95315a7f191539cd5a8121fcd129"
   }
  }
 },
 "nbformat": 4,
 "nbformat_minor": 5
}
