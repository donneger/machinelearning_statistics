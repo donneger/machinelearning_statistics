{
 "cells": [
  {
   "attachments": {},
   "cell_type": "markdown",
   "id": "e803e970",
   "metadata": {},
   "source": [
    "<h1 align=\"center\">Machine Learning and Statistics</h1>\n"
   ]
  },
  {
   "attachments": {},
   "cell_type": "markdown",
   "id": "1aa4bf19",
   "metadata": {},
   "source": [
    "### Hypothesis Testing - Introduction and Summary\n",
    "Hypothesis testing is a statistical act that tests whether an assumption about a population is correct or not using a sample of the population data. It tests the validity of a **Null Hypothesis** and an **Alternative Hypothesis** between 2 variables.\n",
    "\n",
    "- [Hypothesis Wikipedia](https://en.wikipedia.org/wiki/Statistical_hypothesis_testing)\n",
    "- [Simple Explanation Hypotheses Testing](https://www.simplilearn.com/tutorials/statistics-tutorial/hypothesis-testing-in-statistics)\n",
    "- [Null/Alternative Hypothesis](https://www.investopedia.com/terms/n/null_hypothesis.asp)  \n",
    "\n",
    "- Null Hypothesis. (H0) This proposes that no statistical significance exists in a set of observations or that an event will not occour.\n",
    "- Alternative Hypothesis. (H1) This is the opposite to the Null Hypothesis and means that it is unlikely the outcome coudl have arisen by chance alone. \n",
    "\n",
    "Types of testing : One and Two Tailed Hypothesis Testing\n",
    "- One Tailed Test: Test to verify if the test outcome is greater than or less than a specific value but not both, e.g. H0: mean = 25, therefore H1 can be greater than or less than 25. \n",
    "- Two Tailed Test: Test to verify a range of values, e.g. H0 >= 25 therefore H1 <25. \n",
    "\n",
    "P-Value\n",
    "- This measurement is an indication of the likelihood that an outcome measurement could have occurred by chance. The lower the p-value the greater is the likehood that an outcome could not have occurred by chance and the Hull Hypotheses is rejected. It is usual to set a p-value of 0.05 or 0.01, above these values the Null hypothesis is accepted and at or below it is rejected. \n",
    "\n",
    "Usually 4 steps in the process of hypothesis testing: \n",
    "\n",
    "1. State the two hypotheses, note that only one can be right.\n",
    "2. Plan for how the testing will take place and with what data. \n",
    "3. Carry out the plan and analyze the results.\n",
    "4. Based on the results either accept or reject the null hypothesis. \n",
    "\n",
    "In the Lady Tasting Tea problem Fisher set out to demonstrate that the lady in question could not tell whether the tea or milk was added first to the tea cups, i.e. the Null Hypothesis. The Alternative hypothesis is the lady can tell the difference.  \n",
    "\n",
    "He used 8 cups and randomly applied tea or milk first to each of 4 cups. Based on the tasting result, the number of correct cups is determined and based on that it can be calculated what the probability of selecting that amount of correct cups from the is. \n",
    "\n",
    "Fishers Tea Test can be used to check whether there is a significant difference between 2 groups, i.e. what is the probability that the difference would arise by chance alone."
   ]
  },
  {
   "cell_type": "code",
   "execution_count": 35,
   "id": "416a83e2",
   "metadata": {
    "scrolled": true
   },
   "outputs": [
    {
     "data": {
      "text/plain": [
       "[0, 1, 2, 3, 4, 5, 6, 7]"
      ]
     },
     "execution_count": 35,
     "metadata": {},
     "output_type": "execute_result"
    }
   ],
   "source": [
    "# Set up the 8 cups, will be numbered from 0 - 7.\n",
    "cups = list(range(8))\n",
    "cups"
   ]
  },
  {
   "cell_type": "code",
   "execution_count": 36,
   "id": "fac83a63",
   "metadata": {
    "scrolled": true
   },
   "outputs": [
    {
     "data": {
      "text/plain": [
       "70"
      ]
     },
     "execution_count": 36,
     "metadata": {},
     "output_type": "execute_result"
    }
   ],
   "source": [
    "# https://stackoverflow.com/a/4941932\n",
    "# https://www.w3schools.com/python/ref_math_comb.asp\n",
    "# Useful function to calculate how many combinations of a set of x items be obtained from a set y items.\n",
    "# In this case it is how many combinations of 4 cups can be seletced from 8. \n",
    "import math\n",
    "from math import comb\n",
    "\n",
    "# Use comb function to alculate number of combinations. Turns out to be 70.\n",
    "numcombs = comb(len(cups),4)\n",
    "numcombs"
   ]
  },
  {
   "cell_type": "code",
   "execution_count": 37,
   "id": "fc47fc3f",
   "metadata": {
    "scrolled": true
   },
   "outputs": [
    {
     "data": {
      "text/plain": [
       "0.014285714285714285"
      ]
     },
     "execution_count": 37,
     "metadata": {},
     "output_type": "execute_result"
    }
   ],
   "source": [
    "# Probability of getting all 4 correct therefore is:\n",
    "prob = 1/numcombs\n",
    "prob"
   ]
  },
  {
   "attachments": {},
   "cell_type": "markdown",
   "id": "b992ce35",
   "metadata": {},
   "source": [
    "- [Number Combinations](https://www.statskingdom.com/combinations-calculator.html)\n",
    "\n",
    "- [General formula for math.comb](https://docs.python.org/3/library/math.html)\n",
    "\n",
    "While it is useful to use the inbuilt functions to calculate the number of combinations it can also be done using a simple formula shown below. \n",
    "\n",
    "- n!/(k!*(n-k)!) where k is >=n. "
   ]
  },
  {
   "cell_type": "code",
   "execution_count": 38,
   "id": "01de8200",
   "metadata": {
    "scrolled": true
   },
   "outputs": [
    {
     "data": {
      "text/plain": [
       "70.0"
      ]
     },
     "execution_count": 38,
     "metadata": {},
     "output_type": "execute_result"
    }
   ],
   "source": [
    "# Using the Tea tasting exercise the formula can be used to produce the number of combinations.\n",
    "math.factorial(8)/(math.factorial(4)*math.factorial(8-4))"
   ]
  },
  {
   "cell_type": "code",
   "execution_count": 39,
   "id": "7061fa36",
   "metadata": {
    "scrolled": true
   },
   "outputs": [],
   "source": [
    "# https://docs.python.org/3/library/itertools.html\n",
    "# We can also use Itertools to list out all possible combinations, in this case order is not relevant, e.g. 0,1,4,5 is same as 1,0,5,4.\n",
    "# Itertools is a suite of functions that allows for quick and efficient actions on iterators, e.g. lists, dicts or tuples. \n",
    "import itertools"
   ]
  },
  {
   "cell_type": "code",
   "execution_count": 40,
   "id": "979a43bc",
   "metadata": {
    "scrolled": true
   },
   "outputs": [
    {
     "data": {
      "text/plain": [
       "70"
      ]
     },
     "execution_count": 40,
     "metadata": {},
     "output_type": "execute_result"
    }
   ],
   "source": [
    "# Use itertools.combinations to generate all the combinations.\n",
    "listcombs = list(itertools.combinations(cups,4))\n",
    "len(listcombs)"
   ]
  },
  {
   "attachments": {},
   "cell_type": "markdown",
   "id": "49c0de69",
   "metadata": {},
   "source": [
    "While there are different ways to get to the number of combinations needed for the test, the results is still the same, 70. This means that there is only a 1 in 70 (~ 0.0143) chance that the lady could identify correctly 4 out of the 8 cups. If in fact she made a correct selection you could conclude that this was not by chance alone and the null hypothesis would be rejected, i.e. she can discriminate by taste alone whether tea or milk is added first. "
   ]
  },
  {
   "cell_type": "markdown",
   "id": "1051a271",
   "metadata": {},
   "source": [
    "What if she selected 3 correctly, what would that look like. In order to do this need to look at the number of possibilities for any selction from the 70 having 0, 1, 2, 3 or 4 correct. "
   ]
  },
  {
   "cell_type": "code",
   "execution_count": 41,
   "id": "7ba0cdb6",
   "metadata": {
    "scrolled": true
   },
   "outputs": [],
   "source": [
    "#Import libraries to test this out and plot the outcomes. \n",
    "#https://www.w3schools.com/python/ref_random_choices.asp\n",
    "# The random method allows for a random selection for a list, in this case we have a list of 70 tea/milk first combinations. \n",
    "import random\n",
    "from matplotlib import pyplot as plt\n",
    "import seaborn as sns"
   ]
  },
  {
   "cell_type": "code",
   "execution_count": 42,
   "id": "1458b2a4",
   "metadata": {
    "scrolled": true
   },
   "outputs": [
    {
     "data": {
      "text/plain": [
       "{2, 4, 6, 7}"
      ]
     },
     "execution_count": 42,
     "metadata": {},
     "output_type": "execute_result"
    }
   ],
   "source": [
    "# Using random.choice to pick a random correct answer from the list of 70 to simulate the experiment.\n",
    "# We assume it is a correct milk first selction. \n",
    "milkfirst = set(random.choice(listcombs))\n",
    "milkfirst"
   ]
  },
  {
   "cell_type": "code",
   "execution_count": 43,
   "id": "7284c8ba",
   "metadata": {
    "scrolled": false
   },
   "outputs": [
    {
     "data": {
      "image/png": "[encoded data removed]",
      "text/plain": [
       "<Figure size 432x288 with 1 Axes>"
      ]
     },
     "metadata": {
      "needs_background": "light"
     },
     "output_type": "display_data"
    }
   ],
   "source": [
    "# Now count the overlap between the correct answer, and each of the 70 possiblities.\n",
    "\n",
    "#https://www.w3schools.com/python/ref_set_intersection.asp\n",
    "# This is done using Sets,i.e. milkfirst is a set and i loops through each of the 70 combinations in turn. At each iteration a new set is created which contains the elements common in both and these are counted. \n",
    "\n",
    "counts = [len(milkfirst.intersection(i)) for i in listcombs]\n",
    "\n",
    "# Create the plot of the counts.\n",
    "ax = sns.countplot(x=counts)\n",
    "ax.set_xlabel('# Correct Selections')\n",
    "ax.set_ylabel('count')\n",
    "ax.set_title('Fishers Tea Test Distribution')\n",
    "plt.show()"
   ]
  },
  {
   "attachments": {},
   "cell_type": "markdown",
   "id": "409c930e",
   "metadata": {},
   "source": [
    "From the distribution above it is clear that while there is only one outcome for either getting all right or wrong there are many possibilities of getting 1, 2 or 3. This shows that even getting 3 correct could arise by chance given the number of possibilities."
   ]
  },
  {
   "attachments": {},
   "cell_type": "markdown",
   "id": "0d58ba1a",
   "metadata": {},
   "source": [
    "#### Exercise 1.1\n",
    "\n",
    "The above gives about a .014 probability of randomly selecting the correct cups. Calculate the minimum number of cups of tea required to ensure the probability of randomly selecting the correct cups is less than or equal to 1%."
   ]
  },
  {
   "cell_type": "markdown",
   "id": "a92b8f45",
   "metadata": {},
   "source": [
    "From the calculations above, using a selection of 4 out of 8 cups the probabliity of making 4 correct selections is 1 out of 70 is 0.014285714285714285, or 1.43% approx. \n",
    "\n",
    "What might a probability of <= 1% or 0.01 look like. "
   ]
  },
  {
   "cell_type": "code",
   "execution_count": 44,
   "id": "551e956e",
   "metadata": {
    "scrolled": true
   },
   "outputs": [
    {
     "data": {
      "text/plain": [
       "0.017857142857142856"
      ]
     },
     "execution_count": 44,
     "metadata": {},
     "output_type": "execute_result"
    }
   ],
   "source": [
    "# Try 3 out of 8 cups\n",
    "newprob = 1/comb(8,3)\n",
    "newprob"
   ]
  },
  {
   "cell_type": "markdown",
   "id": "21caec05",
   "metadata": {},
   "source": [
    "Not that, probability goes up for selecting 3 out of 8. \n",
    "\n",
    "What about 5 out of 10."
   ]
  },
  {
   "cell_type": "code",
   "execution_count": 45,
   "id": "8e3b7123",
   "metadata": {
    "scrolled": true
   },
   "outputs": [
    {
     "data": {
      "text/plain": [
       "0.003968253968253968"
      ]
     },
     "execution_count": 45,
     "metadata": {},
     "output_type": "execute_result"
    }
   ],
   "source": [
    "# Try 5 out of 10.\n",
    "newprob = 1/comb(10,5)\n",
    "newprob"
   ]
  },
  {
   "cell_type": "markdown",
   "id": "97878a67",
   "metadata": {},
   "source": [
    "5 out of 10 would give a probability of 0.00396, i.e. much less than 1%. On the basis that half the number of cups be tea or milk first then this is the next feasible combination to give that level of probability. "
   ]
  },
  {
   "cell_type": "code",
   "execution_count": 46,
   "id": "38456830",
   "metadata": {},
   "outputs": [
    {
     "data": {
      "text/plain": [
       "0.007936507936507936"
      ]
     },
     "execution_count": 46,
     "metadata": {},
     "output_type": "execute_result"
    }
   ],
   "source": [
    "# Try 5 out of 9.\n",
    "newprob = 1/comb(9,4)\n",
    "newprob"
   ]
  },
  {
   "cell_type": "markdown",
   "id": "f98a1a2b",
   "metadata": {},
   "source": [
    "5 put of 9 would work as would as would 4 out of 9 as it five the same result of .00793. If we are looking for the minumum number of cups then 4 would be it. "
   ]
  },
  {
   "cell_type": "markdown",
   "id": "2be402ce",
   "metadata": {},
   "source": [
    "#### Exercise 1.2\n",
    "\n",
    "How many would be required if you were to let the taster get one cup wrong while maintaining the 1% threshold?"
   ]
  },
  {
   "attachments": {},
   "cell_type": "markdown",
   "id": "a91e5f76",
   "metadata": {},
   "source": [
    "#### Exercise 1.3\n",
    "Use <a href=\"https://docs.scipy.org/doc/scipy/reference/generated/scipy.stats.fisher_exact.html\" style=\"color: #ff791e\">scipy's version of Fisher's exact test</a> to simulate the Lady Tasting Tea problem.\n",
    "\n",
    "Fisher_exact from scipy.stats can be used to calculate the probability as done above manually. It uses a 2 x 2 table and returns the p-value. "
   ]
  },
  {
   "cell_type": "code",
   "execution_count": 47,
   "id": "c962f70b",
   "metadata": {},
   "outputs": [],
   "source": [
    "# https://github.com/scipy/scipy/blob/v1.9.2/scipy/stats/_stats_py.py#L4492-L4723\n",
    "import scipy.stats as ss\n",
    "from scipy.stats import fisher_exact"
   ]
  },
  {
   "cell_type": "code",
   "execution_count": 48,
   "id": "9d2751e6",
   "metadata": {},
   "outputs": [
    {
     "data": {
      "text/html": [
       "<div>\n",
       "<style scoped>\n",
       "    .dataframe tbody tr th:only-of-type {\n",
       "        vertical-align: middle;\n",
       "    }\n",
       "\n",
       "    .dataframe tbody tr th {\n",
       "        vertical-align: top;\n",
       "    }\n",
       "\n",
       "    .dataframe thead th {\n",
       "        text-align: right;\n",
       "    }\n",
       "</style>\n",
       "<table border=\"1\" class=\"dataframe\">\n",
       "  <thead>\n",
       "    <tr style=\"text-align: right;\">\n",
       "      <th></th>\n",
       "      <th>Milk</th>\n",
       "      <th>Tea</th>\n",
       "    </tr>\n",
       "  </thead>\n",
       "  <tbody>\n",
       "    <tr>\n",
       "      <th>Tea</th>\n",
       "      <td>4</td>\n",
       "      <td>0</td>\n",
       "    </tr>\n",
       "    <tr>\n",
       "      <th>Milk</th>\n",
       "      <td>0</td>\n",
       "      <td>4</td>\n",
       "    </tr>\n",
       "  </tbody>\n",
       "</table>\n",
       "</div>"
      ],
      "text/plain": [
       "      Milk  Tea\n",
       "Tea      4    0\n",
       "Milk     0    4"
      ]
     },
     "execution_count": 48,
     "metadata": {},
     "output_type": "execute_result"
    }
   ],
   "source": [
    "#Set up a table to mimic the scenario of Milk/Tea in which 4 cups have milk first and 4 have tea first.\n",
    "import pandas as pd\n",
    "table = [[4,0],[0,4]]\n",
    "df = pd.DataFrame(table, index = [\"Tea\", \"Milk\"], columns = [\"Milk\", \"Tea\"])\n",
    "df"
   ]
  },
  {
   "cell_type": "code",
   "execution_count": 49,
   "id": "fa5b842b",
   "metadata": {},
   "outputs": [
    {
     "data": {
      "text/plain": [
       "0.028571428571428536"
      ]
     },
     "execution_count": 49,
     "metadata": {},
     "output_type": "execute_result"
    }
   ],
   "source": [
    "# Note that the outcome , the p-value, here is double that of the original 1/70 outcome above which indicates it is calculatng a two tailed test, need to divide by 2 for a one-tailed test.\n",
    "oddsratio, pvalue = fisher_exact(table)\n",
    "pvalue"
   ]
  },
  {
   "attachments": {},
   "cell_type": "markdown",
   "id": "842a1f87",
   "metadata": {},
   "source": [
    "[Scipy Stats Hypergeom](https://docs.scipy.org/doc/scipy/reference/generated/scipy.stats.hypergeom.html)\n",
    " https://towardsdatascience.com/hypergeometric-distribution-explained-with-python-2c80bc613bf4\n",
    "\n",
    "A Hypergeometric distribution is used to determine the probabality of making of making a specific selection without replacement from a population. It uses the following parameters:\n",
    "- The total number of items being selected from - M\n",
    "- The total number of the desired selection from M,  - n\n",
    "- The number of selections to make, - N\n",
    "- The number of desired items from the selection, - x"
   ]
  },
  {
   "cell_type": "code",
   "execution_count": 50,
   "id": "cf4da18e",
   "metadata": {},
   "outputs": [
    {
     "data": {
      "text/plain": [
       "array([0.01428571, 0.22857143, 0.51428571, 0.22857143, 0.01428571])"
      ]
     },
     "execution_count": 50,
     "metadata": {},
     "output_type": "execute_result"
    }
   ],
   "source": [
    "# calculate for all values of x.\n",
    "import numpy as np\n",
    "from scipy.stats import hypergeom\n",
    "[M, n, N] = [8, 4, 4]\n",
    "rv = hypergeom(M, n, N)\n",
    "x = np.arange(0, n+1)\n",
    "tea_milk = rv.pmf(x)\n",
    "tea_milk"
   ]
  },
  {
   "cell_type": "code",
   "execution_count": 51,
   "id": "e7f73587",
   "metadata": {
    "scrolled": true
   },
   "outputs": [
    {
     "data": {
      "image/png": "[encoded data removed]",
      "text/plain": [
       "<Figure size 432x288 with 1 Axes>"
      ]
     },
     "metadata": {
      "needs_background": "light"
     },
     "output_type": "display_data"
    }
   ],
   "source": [
    "# Plot the outcome, same as the original plot for the tea test. \n",
    "fig = plt.figure()\n",
    "ax = fig.add_subplot(111)\n",
    "ax.plot(x, tea_milk, 'bo')\n",
    "ax.vlines(x, 0, tea_milk, lw=2)\n",
    "ax.set_xlabel('# of correct selections')\n",
    "ax.set_ylabel('probability')\n",
    "plt.show()"
   ]
  },
  {
   "cell_type": "markdown",
   "id": "51c1108d",
   "metadata": {},
   "source": [
    "### t-Testing\n",
    "\n",
    "One of the most common statistical tests, at its most basic it compares the means between 2 unrelated groups and indicates whether there is a statistically significant difference between both. \n",
    "\n",
    "In practice this means taking samples from 2 populations and testing whether there is a similarity between both. "
   ]
  },
  {
   "cell_type": "code",
   "execution_count": 64,
   "id": "95e25620",
   "metadata": {},
   "outputs": [
    {
     "data": {
      "text/html": [
       "<div>\n",
       "<style scoped>\n",
       "    .dataframe tbody tr th:only-of-type {\n",
       "        vertical-align: middle;\n",
       "    }\n",
       "\n",
       "    .dataframe tbody tr th {\n",
       "        vertical-align: top;\n",
       "    }\n",
       "\n",
       "    .dataframe thead th {\n",
       "        text-align: right;\n",
       "    }\n",
       "</style>\n",
       "<table border=\"1\" class=\"dataframe\">\n",
       "  <thead>\n",
       "    <tr style=\"text-align: right;\">\n",
       "      <th></th>\n",
       "      <th>Category</th>\n",
       "      <th>value</th>\n",
       "    </tr>\n",
       "  </thead>\n",
       "  <tbody>\n",
       "    <tr>\n",
       "      <th>0</th>\n",
       "      <td>A</td>\n",
       "      <td>0.568856</td>\n",
       "    </tr>\n",
       "    <tr>\n",
       "      <th>1</th>\n",
       "      <td>A</td>\n",
       "      <td>0.989372</td>\n",
       "    </tr>\n",
       "    <tr>\n",
       "      <th>2</th>\n",
       "      <td>A</td>\n",
       "      <td>1.331343</td>\n",
       "    </tr>\n",
       "    <tr>\n",
       "      <th>3</th>\n",
       "      <td>A</td>\n",
       "      <td>1.506035</td>\n",
       "    </tr>\n",
       "    <tr>\n",
       "      <th>4</th>\n",
       "      <td>A</td>\n",
       "      <td>0.946029</td>\n",
       "    </tr>\n",
       "    <tr>\n",
       "      <th>...</th>\n",
       "      <td>...</td>\n",
       "      <td>...</td>\n",
       "    </tr>\n",
       "    <tr>\n",
       "      <th>75</th>\n",
       "      <td>B</td>\n",
       "      <td>2.986456</td>\n",
       "    </tr>\n",
       "    <tr>\n",
       "      <th>76</th>\n",
       "      <td>B</td>\n",
       "      <td>2.569197</td>\n",
       "    </tr>\n",
       "    <tr>\n",
       "      <th>77</th>\n",
       "      <td>B</td>\n",
       "      <td>2.839904</td>\n",
       "    </tr>\n",
       "    <tr>\n",
       "      <th>78</th>\n",
       "      <td>B</td>\n",
       "      <td>1.410390</td>\n",
       "    </tr>\n",
       "    <tr>\n",
       "      <th>79</th>\n",
       "      <td>B</td>\n",
       "      <td>2.188905</td>\n",
       "    </tr>\n",
       "  </tbody>\n",
       "</table>\n",
       "<p>80 rows × 2 columns</p>\n",
       "</div>"
      ],
      "text/plain": [
       "   Category     value\n",
       "0         A  0.568856\n",
       "1         A  0.989372\n",
       "2         A  1.331343\n",
       "3         A  1.506035\n",
       "4         A  0.946029\n",
       "..      ...       ...\n",
       "75        B  2.986456\n",
       "76        B  2.569197\n",
       "77        B  2.839904\n",
       "78        B  1.410390\n",
       "79        B  2.188905\n",
       "\n",
       "[80 rows x 2 columns]"
      ]
     },
     "execution_count": 64,
     "metadata": {},
     "output_type": "execute_result"
    }
   ],
   "source": [
    "# Generate two datasets, one with a mean of 1 and std dev of 0.4, the other with a mean of 2 and a std dev of 0.4. \n",
    "m_a, s_a, m_b, s_b = 1.0, 0.4, 2.0, 0.4\n",
    "n = 40\n",
    "\n",
    "# Use random.normal to generate the data sets.\n",
    "a = np.random.normal(loc=m_a, scale=s_a, size = n)\n",
    "b = np.random.normal(loc=m_b, scale=s_b, size = n)\n",
    "\n",
    "# Convery them to a pandas dataframe. np.hstack is used to stack one dataset on top of another (https://numpy.org/doc/stable/reference/generated/numpy.hstack.html)\n",
    "df = pd.DataFrame({'Category':['A']*len(a) + ['B']*len(b), 'value': np.hstack([a,b])})\n",
    "df"
   ]
  },
  {
   "cell_type": "code",
   "execution_count": 65,
   "id": "9664bf13",
   "metadata": {},
   "outputs": [
    {
     "data": {
      "text/plain": [
       "<seaborn.axisgrid.FacetGrid at 0x1fb1cacf070>"
      ]
     },
     "execution_count": 65,
     "metadata": {},
     "output_type": "execute_result"
    },
    {
     "data": {
      "image/png": "[encoded data removed]",
      "text/plain": [
       "<Figure size 360x360 with 1 Axes>"
      ]
     },
     "metadata": {
      "needs_background": "light"
     },
     "output_type": "display_data"
    }
   ],
   "source": [
    "# Plot the dataframe, jitter = false is used to make the plot clearer. \n",
    "sns.catplot(x = 'Category', y='value', jitter = False , data=df)"
   ]
  },
  {
   "cell_type": "code",
   "execution_count": 72,
   "id": "78fd05d2",
   "metadata": {},
   "outputs": [],
   "source": [
    "# use the statistics package to easily calculate means.\n",
    "import statistics\n",
    "n1 = len(a)\n",
    "n2 = len(b)\n",
    "\n",
    "m1 = statistics.mean(a)\n",
    "m2 = statistics.mean(b)"
   ]
  },
  {
   "cell_type": "code",
   "execution_count": 73,
   "id": "6fbf5738",
   "metadata": {},
   "outputs": [
    {
     "data": {
      "text/plain": [
       "0.3527867623799357"
      ]
     },
     "execution_count": 73,
     "metadata": {},
     "output_type": "execute_result"
    }
   ],
   "source": [
    "# Calculate the standard deviation of the (a) dataset.\n",
    "sdeva = statistics.stdev(a)\n",
    "sdeva"
   ]
  },
  {
   "cell_type": "code",
   "execution_count": 74,
   "id": "8723507b",
   "metadata": {},
   "outputs": [
    {
     "data": {
      "text/plain": [
       "0.38157172849941096"
      ]
     },
     "execution_count": 74,
     "metadata": {},
     "output_type": "execute_result"
    }
   ],
   "source": [
    "# Calculate the standard deviation of the (b) dataset\n",
    "sdevb = statistics.stdev(b)\n",
    "sdevb"
   ]
  },
  {
   "cell_type": "code",
   "execution_count": 75,
   "id": "5052c3a1",
   "metadata": {},
   "outputs": [
    {
     "data": {
      "text/plain": [
       "-12.01886223368867"
      ]
     },
     "execution_count": 75,
     "metadata": {},
     "output_type": "execute_result"
    }
   ],
   "source": [
    "# Now calculate the t value. \n",
    "df = n1 + n2 - 2\n",
    "sp2 = ((n1 - 1) * sdeva**2 + (n2 - 1) * sdevb**2) / df\n",
    "t = (m1 - m2) / (np.sqrt(sp2) * np.sqrt(1.0/n1 + 1.0/n2))\n",
    "t"
   ]
  },
  {
   "cell_type": "code",
   "execution_count": null,
   "id": "e4792a31",
   "metadata": {},
   "outputs": [],
   "source": []
  },
  {
   "attachments": {},
   "cell_type": "markdown",
   "id": "0946200a",
   "metadata": {},
   "source": [
    "### Exercise 1.4\n",
    "Trying out scipy stats ttest.  \n",
    "   \n",
    ". [scipy stats ttest docs](https://docs.scipy.org/doc/scipy/reference/generated/scipy.stats.ttest_ind.html)"
   ]
  },
  {
   "cell_type": "code",
   "execution_count": 117,
   "id": "7736aa45",
   "metadata": {},
   "outputs": [
    {
     "data": {
      "text/plain": [
       "Generator(PCG64) at 0x1FB1CC29820"
      ]
     },
     "execution_count": 117,
     "metadata": {},
     "output_type": "execute_result"
    }
   ],
   "source": [
    "# Import the package and generate a seed, rng. \n",
    "import statsmodels.stats.weightstats as stat\n",
    "rng = np.random.default_rng()\n",
    "rng\n",
    "\n",
    "# It takes a number of paramaters,main ones being:\n",
    "# a, b - the datasets or arrays to be tested."
   ]
  },
  {
   "cell_type": "code",
   "execution_count": 118,
   "id": "a4104434",
   "metadata": {},
   "outputs": [
    {
     "name": "stdout",
     "output_type": "stream",
     "text": [
      "-12.018862233688672 1.9713568007031136e-19 78.0\n"
     ]
    }
   ],
   "source": [
    "t_ss, p_ss, d_sm = stat.ttest_ind(a,b)\n",
    "print(t_ss, p_ss, d_sm)\n"
   ]
  },
  {
   "cell_type": "code",
   "execution_count": 119,
   "id": "f5183661",
   "metadata": {},
   "outputs": [
    {
     "name": "stdout",
     "output_type": "stream",
     "text": [
      "-12.018862233688672 1.9713568007031136e-19\n"
     ]
    }
   ],
   "source": [
    "t_ss, p_ss= ss.ttest_ind(a,b)\n",
    "print(t_ss, p_ss)"
   ]
  },
  {
   "cell_type": "code",
   "execution_count": 120,
   "id": "f7342310",
   "metadata": {},
   "outputs": [
    {
     "data": {
      "text/plain": [
       "Generator(PCG64) at 0x1FB1CC29740"
      ]
     },
     "execution_count": 120,
     "metadata": {},
     "output_type": "execute_result"
    }
   ],
   "source": [
    "rng = np.random.default_rng()\n",
    "rng"
   ]
  },
  {
   "cell_type": "code",
   "execution_count": 121,
   "id": "5110f715",
   "metadata": {
    "scrolled": false
   },
   "outputs": [],
   "source": [
    "# https://pythonguides.com/python-scipy-stats-norm/\n",
    "# Functon generates random samples from a normal distribution.\n",
    "# loc is the mean, scale is the standard deviation, size is the number of samples and random_state is the seed.\n",
    "# Looking at 2 data sets, rvs1 and rvs2 thathave the same sample means. \n",
    "rvs1 = stat.stats.norm.rvs(loc=5, scale=10, size=500, random_state=rng)"
   ]
  },
  {
   "cell_type": "code",
   "execution_count": 122,
   "id": "b74b915f",
   "metadata": {},
   "outputs": [
    {
     "data": {
      "image/png": "[encoded data removed]",
      "text/plain": [
       "<Figure size 432x288 with 1 Axes>"
      ]
     },
     "metadata": {
      "needs_background": "light"
     },
     "output_type": "display_data"
    }
   ],
   "source": [
    "# This is what rvs1 looks like. \n",
    "plt.plot(rvs1);"
   ]
  },
  {
   "cell_type": "code",
   "execution_count": 123,
   "id": "64b61081",
   "metadata": {},
   "outputs": [],
   "source": [
    "# Now plot rvs2 as an identical \n",
    "rvs2 = stat.stats.norm.rvs(loc=5, scale=10, size=500, random_state=rng)"
   ]
  },
  {
   "cell_type": "code",
   "execution_count": 124,
   "id": "0a547430",
   "metadata": {},
   "outputs": [
    {
     "data": {
      "image/png": "[encoded data removed]",
      "text/plain": [
       "<Figure size 432x288 with 1 Axes>"
      ]
     },
     "metadata": {
      "needs_background": "light"
     },
     "output_type": "display_data"
    }
   ],
   "source": [
    "plt.plot(rvs2);"
   ]
  },
  {
   "cell_type": "code",
   "execution_count": 133,
   "id": "7e5fbeaa",
   "metadata": {},
   "outputs": [
    {
     "data": {
      "text/plain": [
       "Ttest_indResult(statistic=0.3102838287866303, pvalue=0.7564099109000157)"
      ]
     },
     "execution_count": 133,
     "metadata": {},
     "output_type": "execute_result"
    }
   ],
   "source": [
    "# Now generate the the t test, it returns 2 values, the t-value and the p-value. In thsi case the p-value is greater than the threshold of 0.05 and therefore the Null Hypothesis that the means are equal is not rejected. \n",
    "stat.stats.ttest_ind(rvs1, rvs2)"
   ]
  },
  {
   "cell_type": "code",
   "execution_count": 138,
   "id": "538df5be",
   "metadata": {},
   "outputs": [
    {
     "data": {
      "text/plain": [
       "Ttest_indResult(statistic=-2.670209247171776, pvalue=0.007786517227159793)"
      ]
     },
     "execution_count": 138,
     "metadata": {},
     "output_type": "execute_result"
    }
   ],
   "source": [
    "# Create an additional dataset. In the this case the p-value is below the 0.05 threshold, the Null hypothesis is rejected that the means are equal.\n",
    "rvs3 = stat.stats.norm.rvs(loc=8, scale=20, size=100, random_state=rng) \n",
    "stat.stats.ttest_ind(rvs1, rvs3, equal_var=True)"
   ]
  },
  {
   "cell_type": "code",
   "execution_count": null,
   "id": "45580a01",
   "metadata": {},
   "outputs": [],
   "source": []
  }
 ],
 "metadata": {
  "kernelspec": {
   "display_name": "base",
   "language": "python",
   "name": "python3"
  },
  "language_info": {
   "codemirror_mode": {
    "name": "ipython",
    "version": 3
   },
   "file_extension": ".py",
   "mimetype": "text/x-python",
   "name": "python",
   "nbconvert_exporter": "python",
   "pygments_lexer": "ipython3",
   "version": "3.8.8"
  },
  "vscode": {
   "interpreter": {
    "hash": "026d2eec43adaaf55ed4ec0c8a3ceda1934c95315a7f191539cd5a8121fcd129"
   }
  }
 },
 "nbformat": 4,
 "nbformat_minor": 5
}
