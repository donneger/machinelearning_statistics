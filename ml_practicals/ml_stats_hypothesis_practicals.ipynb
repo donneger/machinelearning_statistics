{
 "cells": [
  {
   "cell_type": "markdown",
   "id": "e803e970",
   "metadata": {},
   "source": [
    "<h1 align=\"center\">Machine Learning and Statistics</h1>\n",
    "\n",
    "<h2> Practical Exercises</h2>\n",
    "\n"
   ]
  },
  {
   "cell_type": "markdown",
   "id": "1aa4bf19",
   "metadata": {},
   "source": [
    "### Hypothesis Testing Introduction and Summary\n",
    "\n",
    "[Hypothesis Wikipedia](https://en.wikipedia.org/wiki/Statistical_hypothesis_testing)\n",
    "\n",
    "[Simple Explanation Hypotheses Testing](https://www.simplilearn.com/tutorials/statistics-tutorial/hypothesis-testing-in-statistics)\n",
    "\n",
    "Hypothesis testing is a statistical act that tests whether an assumption is correct or not using a set of population data. It tests the validity of a **Null Hypothesis** and an **Alternative Hypothesis** between 2 variables. \n",
    "\n",
    "[Null/Alternative Hypothesis](https://www.investopedia.com/terms/n/null_hypothesis.asp)\n",
    "- Null Hypothesis. (H0) This proposes that no statistical significance exists in a set of observations or that an event will not occour.\n",
    "- Alternative Hypothesis. (H1) This is the opposite to the Null Hypothesis.\n",
    "\n",
    "One and Two Tailed Hypothesis Testing\n",
    "- One Tailed Test: Test to verify if the test outcome is greater than or less than a specific value, e.g. H0: mean = 25, therefore H1 can be greater than or less than 25.  \n",
    "- Two Tailed Test: Test to verify a range of values, ie H0 >= 25 therefore H1 <25. \n",
    "\n",
    "P-Value\n",
    "- This measurement is an indication of the likelihood that an out or measurement could have occurred by chance. The lower the p-value the greater is the likehood that an outcome could not have occurred by chance and the Hull Hypotheses is rejected. \n",
    "\n",
    "Usually 4 steps in the process of testing. \n",
    "\n",
    "1. State the two hypotheses, note that only one can be right.\n",
    "2. Plan for how the testing will take place and with what data. \n",
    "3. Carry out the plan and analyze the results.\n",
    "4. Based on the results either accept or reject the null hypothesis. \n",
    "\n",
    "In the Lady Tasting Tea problem Fisher set out to demonstrate that the lady in question could not tell whether the tea or milk was added first to the tea cups, i.e. the Null Hypothesis.  \n",
    "\n",
    "He used 8 cups and randomly applied tea or milk firsts to each of 4 cups. Based on the tasting result, the number of correct cups is determined and based on that it can be calculated what the probability of selecting that amount of correct cups from the  is. "
   ]
  },
  {
   "cell_type": "code",
   "execution_count": 1,
   "id": "416a83e2",
   "metadata": {
    "scrolled": true
   },
   "outputs": [
    {
     "data": {
      "text/plain": [
       "[0, 1, 2, 3, 4, 5, 6, 7]"
      ]
     },
     "execution_count": 1,
     "metadata": {},
     "output_type": "execute_result"
    }
   ],
   "source": [
    "# Set up the cups\n",
    "cups = list(range(8))\n",
    "cups"
   ]
  },
  {
   "cell_type": "code",
   "execution_count": 2,
   "id": "fac83a63",
   "metadata": {
    "scrolled": true
   },
   "outputs": [],
   "source": [
    "# https://stackoverflow.com/a/4941932\n",
    "# https://www.w3schools.com/python/ref_math_comb.asp\n",
    "# Useful function to calculate how many combinations of a set of x items be obtained from a set y items.\n",
    "# In this case it is how many combinations of 4 cups can be seletced from 8. \n",
    "import math\n",
    "from math import comb"
   ]
  },
  {
   "cell_type": "code",
   "execution_count": 3,
   "id": "c88dc161",
   "metadata": {
    "scrolled": true
   },
   "outputs": [
    {
     "data": {
      "text/plain": [
       "70"
      ]
     },
     "execution_count": 3,
     "metadata": {},
     "output_type": "execute_result"
    }
   ],
   "source": [
    "# Calculate number of combinations.\n",
    "numcombs = comb(len(cups),4)\n",
    "numcombs"
   ]
  },
  {
   "cell_type": "code",
   "execution_count": 4,
   "id": "fc47fc3f",
   "metadata": {
    "scrolled": true
   },
   "outputs": [
    {
     "data": {
      "text/plain": [
       "0.014285714285714285"
      ]
     },
     "execution_count": 4,
     "metadata": {},
     "output_type": "execute_result"
    }
   ],
   "source": [
    "# Probability of getting all 4 correct therefore is:\n",
    "prob = 1/numcombs\n",
    "prob"
   ]
  },
  {
   "cell_type": "markdown",
   "id": "b992ce35",
   "metadata": {},
   "source": [
    "[Number Combinations](https://www.statskingdom.com/combinations-calculator.html)\n",
    "\n",
    "[General formula for math.comb](https://docs.python.org/3/library/math.html)\n",
    "\n",
    "n!/(k!*(n-k)!) where k is >=n. "
   ]
  },
  {
   "cell_type": "code",
   "execution_count": 5,
   "id": "01de8200",
   "metadata": {
    "scrolled": true
   },
   "outputs": [
    {
     "data": {
      "text/plain": [
       "70.0"
      ]
     },
     "execution_count": 5,
     "metadata": {},
     "output_type": "execute_result"
    }
   ],
   "source": [
    "#Try it out\n",
    "math.factorial(8)/(math.factorial(4)*math.factorial(8-4))"
   ]
  },
  {
   "cell_type": "code",
   "execution_count": 6,
   "id": "7061fa36",
   "metadata": {
    "scrolled": true
   },
   "outputs": [],
   "source": [
    "#Use Itertools to list out all possible combinations, order is not relevant, e.g. 0,1,4,5 is same as 1,0,5,4\n",
    "import itertools"
   ]
  },
  {
   "cell_type": "code",
   "execution_count": 7,
   "id": "979a43bc",
   "metadata": {
    "scrolled": true
   },
   "outputs": [
    {
     "data": {
      "text/plain": [
       "[(0, 1, 2, 3),\n",
       " (0, 1, 2, 4),\n",
       " (0, 1, 2, 5),\n",
       " (0, 1, 2, 6),\n",
       " (0, 1, 2, 7),\n",
       " (0, 1, 3, 4),\n",
       " (0, 1, 3, 5),\n",
       " (0, 1, 3, 6),\n",
       " (0, 1, 3, 7),\n",
       " (0, 1, 4, 5),\n",
       " (0, 1, 4, 6),\n",
       " (0, 1, 4, 7),\n",
       " (0, 1, 5, 6),\n",
       " (0, 1, 5, 7),\n",
       " (0, 1, 6, 7),\n",
       " (0, 2, 3, 4),\n",
       " (0, 2, 3, 5),\n",
       " (0, 2, 3, 6),\n",
       " (0, 2, 3, 7),\n",
       " (0, 2, 4, 5),\n",
       " (0, 2, 4, 6),\n",
       " (0, 2, 4, 7),\n",
       " (0, 2, 5, 6),\n",
       " (0, 2, 5, 7),\n",
       " (0, 2, 6, 7),\n",
       " (0, 3, 4, 5),\n",
       " (0, 3, 4, 6),\n",
       " (0, 3, 4, 7),\n",
       " (0, 3, 5, 6),\n",
       " (0, 3, 5, 7),\n",
       " (0, 3, 6, 7),\n",
       " (0, 4, 5, 6),\n",
       " (0, 4, 5, 7),\n",
       " (0, 4, 6, 7),\n",
       " (0, 5, 6, 7),\n",
       " (1, 2, 3, 4),\n",
       " (1, 2, 3, 5),\n",
       " (1, 2, 3, 6),\n",
       " (1, 2, 3, 7),\n",
       " (1, 2, 4, 5),\n",
       " (1, 2, 4, 6),\n",
       " (1, 2, 4, 7),\n",
       " (1, 2, 5, 6),\n",
       " (1, 2, 5, 7),\n",
       " (1, 2, 6, 7),\n",
       " (1, 3, 4, 5),\n",
       " (1, 3, 4, 6),\n",
       " (1, 3, 4, 7),\n",
       " (1, 3, 5, 6),\n",
       " (1, 3, 5, 7),\n",
       " (1, 3, 6, 7),\n",
       " (1, 4, 5, 6),\n",
       " (1, 4, 5, 7),\n",
       " (1, 4, 6, 7),\n",
       " (1, 5, 6, 7),\n",
       " (2, 3, 4, 5),\n",
       " (2, 3, 4, 6),\n",
       " (2, 3, 4, 7),\n",
       " (2, 3, 5, 6),\n",
       " (2, 3, 5, 7),\n",
       " (2, 3, 6, 7),\n",
       " (2, 4, 5, 6),\n",
       " (2, 4, 5, 7),\n",
       " (2, 4, 6, 7),\n",
       " (2, 5, 6, 7),\n",
       " (3, 4, 5, 6),\n",
       " (3, 4, 5, 7),\n",
       " (3, 4, 6, 7),\n",
       " (3, 5, 6, 7),\n",
       " (4, 5, 6, 7)]"
      ]
     },
     "execution_count": 7,
     "metadata": {},
     "output_type": "execute_result"
    }
   ],
   "source": [
    "# Generate all the combinations.\n",
    "listcombs = list(itertools.combinations(cups,4))\n",
    "listcombs"
   ]
  },
  {
   "cell_type": "markdown",
   "id": "49c0de69",
   "metadata": {},
   "source": [
    "This means that there is only a 1 in 70 (~ 0.0143) chance that the lady could identify correctly 4 out of the 8 cups. If in fact she made a correct selection you could conclude that this was not by chance alone and the null hypothesis would be rejected, i.e. she can discriminate by taste alone whether tea or milk is added first. "
   ]
  },
  {
   "cell_type": "markdown",
   "id": "1051a271",
   "metadata": {},
   "source": [
    "What if she selected 3 correctly, what would that look like. In order to do this need to look at the number of possibilities for any selction from the 70 having 0, 1, 2, 3 or 4 correct. "
   ]
  },
  {
   "cell_type": "code",
   "execution_count": 8,
   "id": "7ba0cdb6",
   "metadata": {
    "scrolled": true
   },
   "outputs": [],
   "source": [
    "import random\n",
    "from matplotlib import pyplot as plt\n",
    "import seaborn as sns"
   ]
  },
  {
   "cell_type": "code",
   "execution_count": 9,
   "id": "1458b2a4",
   "metadata": {
    "scrolled": true
   },
   "outputs": [
    {
     "data": {
      "text/plain": [
       "{1, 2, 4, 7}"
      ]
     },
     "execution_count": 9,
     "metadata": {},
     "output_type": "execute_result"
    }
   ],
   "source": [
    "# Pick a random correct answer from the list of 70 to simulate the experiment.\n",
    "milkfirst = set(random.choice(listcombs))\n",
    "milkfirst"
   ]
  },
  {
   "cell_type": "code",
   "execution_count": 10,
   "id": "7284c8ba",
   "metadata": {
    "scrolled": false
   },
   "outputs": [
    {
     "data": {
      "text/plain": [
       "<function matplotlib.pyplot.show(close=None, block=None)>"
      ]
     },
     "execution_count": 10,
     "metadata": {},
     "output_type": "execute_result"
    },
    {
     "data": {
      "image/png": "[encoded data removed]",
      "text/plain": [
       "<Figure size 432x288 with 1 Axes>"
      ]
     },
     "metadata": {
      "needs_background": "light"
     },
     "output_type": "display_data"
    }
   ],
   "source": [
    "# Count the overlap between the correct answer, and each of the 70 possiblities.\n",
    "counts = [len(milkfirst & set(i)) for i in listcombs]\n",
    "\n",
    "# Creat the plot.\n",
    "ax = sns.countplot(x=counts)\n",
    "ax.set_xlabel('# Correct Selections')\n",
    "ax.set_ylabel('count')\n",
    "ax.set_title('Fishers Tea Test Distribution')\n",
    "plt.show"
   ]
  },
  {
   "cell_type": "markdown",
   "id": "409c930e",
   "metadata": {},
   "source": [
    "From the distribution it is clear that while there is only one outcome for either getting all right or wrong there are many possibilities of getting 1, 2 or 3. This shows that even getting 3 correct could arise by chance given the number of possibilities."
   ]
  },
  {
   "cell_type": "markdown",
   "id": "0d58ba1a",
   "metadata": {},
   "source": [
    "#### Exercise 1.1\n",
    "\n",
    "The above gives about a 1.5% chance of randomly selecting the correct cups. Calculate the minimum number of cups of tea required to ensure the probability of randomly selecting the correct cups is less than or equal to 1%."
   ]
  },
  {
   "cell_type": "markdown",
   "id": "a92b8f45",
   "metadata": {},
   "source": [
    "From the calculations above, using a selection of 4 out of 8 cups the probabliity of making 4 correct selections is 1 out of 70 is 0.014285714285714285, or 1.43% approx. \n",
    "\n",
    "What might a probability of <= 1% or 0.01 look like. "
   ]
  },
  {
   "cell_type": "code",
   "execution_count": 11,
   "id": "551e956e",
   "metadata": {
    "scrolled": true
   },
   "outputs": [
    {
     "data": {
      "text/plain": [
       "0.017857142857142856"
      ]
     },
     "execution_count": 11,
     "metadata": {},
     "output_type": "execute_result"
    }
   ],
   "source": [
    "# Try 3 out of 8 cups\n",
    "newprob = 1/comb(8,3)\n",
    "newprob"
   ]
  },
  {
   "cell_type": "markdown",
   "id": "21caec05",
   "metadata": {},
   "source": [
    "Not that, probability goes up for selecting 3 out of 8. \n",
    "\n",
    "What about 5 out of 10."
   ]
  },
  {
   "cell_type": "code",
   "execution_count": 12,
   "id": "8e3b7123",
   "metadata": {
    "scrolled": true
   },
   "outputs": [
    {
     "data": {
      "text/plain": [
       "0.003968253968253968"
      ]
     },
     "execution_count": 12,
     "metadata": {},
     "output_type": "execute_result"
    }
   ],
   "source": [
    "# Try 5 out of 10.\n",
    "newprob = 1/comb(10,5)\n",
    "newprob"
   ]
  },
  {
   "cell_type": "markdown",
   "id": "97878a67",
   "metadata": {},
   "source": [
    "5 out of 10 would give a probability of 0.00396, i.e. much less than 1%. On the basis that half the number of cups be tea or milk first then this is the next feasible combination to give that level of probability. "
   ]
  },
  {
   "cell_type": "code",
   "execution_count": 13,
   "id": "38456830",
   "metadata": {},
   "outputs": [
    {
     "data": {
      "text/plain": [
       "0.007936507936507936"
      ]
     },
     "execution_count": 13,
     "metadata": {},
     "output_type": "execute_result"
    }
   ],
   "source": [
    "# Try 5 out of 9.\n",
    "newprob = 1/comb(9,4)\n",
    "newprob"
   ]
  },
  {
   "cell_type": "markdown",
   "id": "f98a1a2b",
   "metadata": {},
   "source": [
    "5 put of 9 would work as would as would 4 out of 9 as it five the same result of .00793. If we are looking for the minumum number of cups then 4 would be it. "
   ]
  },
  {
   "cell_type": "code",
   "execution_count": null,
   "id": "ab1c2c24",
   "metadata": {},
   "outputs": [],
   "source": []
  },
  {
   "cell_type": "markdown",
   "id": "2be402ce",
   "metadata": {},
   "source": [
    "#### Exercise 1.2\n",
    "\n",
    "How many would be required if you were to let the taster get one cup wrong while maintaining the 1% threshold?"
   ]
  },
  {
   "cell_type": "code",
   "execution_count": null,
   "id": "1c09bc39",
   "metadata": {},
   "outputs": [],
   "source": []
  },
  {
   "cell_type": "code",
   "execution_count": null,
   "id": "edaaf1e6",
   "metadata": {},
   "outputs": [],
   "source": []
  },
  {
   "cell_type": "code",
   "execution_count": null,
   "id": "0fcabe51",
   "metadata": {},
   "outputs": [],
   "source": []
  },
  {
   "cell_type": "code",
   "execution_count": null,
   "id": "e91ad34d",
   "metadata": {},
   "outputs": [],
   "source": []
  },
  {
   "cell_type": "code",
   "execution_count": null,
   "id": "4f5b3fe8",
   "metadata": {},
   "outputs": [],
   "source": []
  },
  {
   "cell_type": "code",
   "execution_count": null,
   "id": "0ce64adf",
   "metadata": {},
   "outputs": [],
   "source": []
  },
  {
   "cell_type": "markdown",
   "id": "a91e5f76",
   "metadata": {},
   "source": [
    "#### Exercise 1.3\n",
    "Use <a href=\"https://docs.scipy.org/doc/scipy/reference/generated/scipy.stats.fisher_exact.html\" style=\"color: #ff791e\">scipy's version of Fisher's exact test</a> to simulate the Lady Tasting Tea problem.\n",
    "\n",
    "Fisher_exact from scipy.stats can be used to calculate the probability as done above manually. it uses a 2 x 2 table and returns the probability. "
   ]
  },
  {
   "cell_type": "code",
   "execution_count": 14,
   "id": "c962f70b",
   "metadata": {},
   "outputs": [],
   "source": [
    "# https://github.com/scipy/scipy/blob/v1.9.2/scipy/stats/_stats_py.py#L4492-L4723\n",
    "import scipy.stats as ss\n",
    "from scipy.stats import fisher_exact"
   ]
  },
  {
   "cell_type": "code",
   "execution_count": 15,
   "id": "9d2751e6",
   "metadata": {},
   "outputs": [
    {
     "data": {
      "text/html": [
       "<div>\n",
       "<style scoped>\n",
       "    .dataframe tbody tr th:only-of-type {\n",
       "        vertical-align: middle;\n",
       "    }\n",
       "\n",
       "    .dataframe tbody tr th {\n",
       "        vertical-align: top;\n",
       "    }\n",
       "\n",
       "    .dataframe thead th {\n",
       "        text-align: right;\n",
       "    }\n",
       "</style>\n",
       "<table border=\"1\" class=\"dataframe\">\n",
       "  <thead>\n",
       "    <tr style=\"text-align: right;\">\n",
       "      <th></th>\n",
       "      <th>Milk</th>\n",
       "      <th>Tea</th>\n",
       "    </tr>\n",
       "  </thead>\n",
       "  <tbody>\n",
       "    <tr>\n",
       "      <th>Tea</th>\n",
       "      <td>4</td>\n",
       "      <td>0</td>\n",
       "    </tr>\n",
       "    <tr>\n",
       "      <th>Milk</th>\n",
       "      <td>0</td>\n",
       "      <td>4</td>\n",
       "    </tr>\n",
       "  </tbody>\n",
       "</table>\n",
       "</div>"
      ],
      "text/plain": [
       "      Milk  Tea\n",
       "Tea      4    0\n",
       "Milk     0    4"
      ]
     },
     "execution_count": 15,
     "metadata": {},
     "output_type": "execute_result"
    }
   ],
   "source": [
    "#Set up a table to mimic the scenario of Milk/Tea\n",
    "import pandas as pd\n",
    "table = [[4,0],[0,4]]\n",
    "df = pd.DataFrame(table, index = [\"Tea\", \"Milk\"], columns = [\"Milk\", \"Tea\"])\n",
    "df"
   ]
  },
  {
   "cell_type": "code",
   "execution_count": 16,
   "id": "fa5b842b",
   "metadata": {},
   "outputs": [
    {
     "data": {
      "text/plain": [
       "0.028571428571428536"
      ]
     },
     "execution_count": 16,
     "metadata": {},
     "output_type": "execute_result"
    }
   ],
   "source": [
    "oddsratio, pvalue = fisher_exact(table)\n",
    "pvalue"
   ]
  },
  {
   "cell_type": "code",
   "execution_count": null,
   "id": "e4f2c2c1",
   "metadata": {},
   "outputs": [],
   "source": []
  },
  {
   "cell_type": "code",
   "execution_count": 17,
   "id": "514a9145",
   "metadata": {},
   "outputs": [
    {
     "data": {
      "text/plain": [
       "array([0.01428571, 0.22857143, 0.51428571, 0.22857143, 0.01428571])"
      ]
     },
     "execution_count": 17,
     "metadata": {},
     "output_type": "execute_result"
    }
   ],
   "source": [
    "# Have a look at how its calculated. \n",
    "import numpy as np\n",
    "from scipy.stats import hypergeom\n",
    "table = np.array([[4, 0], [0, 4]])\n",
    "M = table.sum()\n",
    "n = table[0].sum()\n",
    "N = table[:, 0].sum()\n",
    "start, end = hypergeom.support(M, n, N)\n",
    "hypergeom.pmf(np.arange(start, end+1), M, n, N)"
   ]
  },
  {
   "cell_type": "markdown",
   "id": "842a1f87",
   "metadata": {},
   "source": [
    "[Hypergeom](https://docs.scipy.org/doc/scipy/reference/generated/scipy.stats.hypergeom.html)\n",
    "\n",
    "Having a look at hypergeom."
   ]
  },
  {
   "cell_type": "code",
   "execution_count": 18,
   "id": "cf4da18e",
   "metadata": {},
   "outputs": [
    {
     "data": {
      "text/plain": [
       "array([0.01428571, 0.22857143, 0.51428571, 0.22857143, 0.01428571])"
      ]
     },
     "execution_count": 18,
     "metadata": {},
     "output_type": "execute_result"
    }
   ],
   "source": [
    "[M, n, N] = [8, 4, 4]\n",
    "rv = hypergeom(M, n, N)\n",
    "x = np.arange(0, n+1)\n",
    "tea_milk = rv.pmf(x)\n",
    "tea_milk"
   ]
  },
  {
   "cell_type": "code",
   "execution_count": 19,
   "id": "e7f73587",
   "metadata": {
    "scrolled": true
   },
   "outputs": [
    {
     "data": {
      "image/png": "[encoded data removed]",
      "text/plain": [
       "<Figure size 432x288 with 1 Axes>"
      ]
     },
     "metadata": {
      "needs_background": "light"
     },
     "output_type": "display_data"
    }
   ],
   "source": [
    "fig = plt.figure()\n",
    "ax = fig.add_subplot(111)\n",
    "ax.plot(x, tea_milk, 'bo')\n",
    "ax.vlines(x, 0, tea_milk, lw=2)\n",
    "ax.set_xlabel('# of correct selections')\n",
    "ax.set_ylabel('probability')\n",
    "plt.show()"
   ]
  },
  {
   "cell_type": "markdown",
   "id": "51c1108d",
   "metadata": {},
   "source": [
    "### t-Testing\n",
    "\n",
    "One of the most common statistical tests, at its most basic it compares the means between 2 unrelated groups and indicates whether there is a statistically significant difference between both. \n",
    "\n",
    "In practice this means taking samples from 2 populations and testing whether there is a similarity between both. "
   ]
  },
  {
   "cell_type": "code",
   "execution_count": 20,
   "id": "95e25620",
   "metadata": {},
   "outputs": [
    {
     "data": {
      "text/html": [
       "<div>\n",
       "<style scoped>\n",
       "    .dataframe tbody tr th:only-of-type {\n",
       "        vertical-align: middle;\n",
       "    }\n",
       "\n",
       "    .dataframe tbody tr th {\n",
       "        vertical-align: top;\n",
       "    }\n",
       "\n",
       "    .dataframe thead th {\n",
       "        text-align: right;\n",
       "    }\n",
       "</style>\n",
       "<table border=\"1\" class=\"dataframe\">\n",
       "  <thead>\n",
       "    <tr style=\"text-align: right;\">\n",
       "      <th></th>\n",
       "      <th>Category</th>\n",
       "      <th>value</th>\n",
       "    </tr>\n",
       "  </thead>\n",
       "  <tbody>\n",
       "    <tr>\n",
       "      <th>0</th>\n",
       "      <td>A</td>\n",
       "      <td>0.721694</td>\n",
       "    </tr>\n",
       "    <tr>\n",
       "      <th>1</th>\n",
       "      <td>A</td>\n",
       "      <td>0.560243</td>\n",
       "    </tr>\n",
       "    <tr>\n",
       "      <th>2</th>\n",
       "      <td>A</td>\n",
       "      <td>1.458357</td>\n",
       "    </tr>\n",
       "    <tr>\n",
       "      <th>3</th>\n",
       "      <td>A</td>\n",
       "      <td>1.060423</td>\n",
       "    </tr>\n",
       "    <tr>\n",
       "      <th>4</th>\n",
       "      <td>A</td>\n",
       "      <td>0.845233</td>\n",
       "    </tr>\n",
       "    <tr>\n",
       "      <th>...</th>\n",
       "      <td>...</td>\n",
       "      <td>...</td>\n",
       "    </tr>\n",
       "    <tr>\n",
       "      <th>75</th>\n",
       "      <td>B</td>\n",
       "      <td>2.549633</td>\n",
       "    </tr>\n",
       "    <tr>\n",
       "      <th>76</th>\n",
       "      <td>B</td>\n",
       "      <td>2.361682</td>\n",
       "    </tr>\n",
       "    <tr>\n",
       "      <th>77</th>\n",
       "      <td>B</td>\n",
       "      <td>1.152810</td>\n",
       "    </tr>\n",
       "    <tr>\n",
       "      <th>78</th>\n",
       "      <td>B</td>\n",
       "      <td>2.196321</td>\n",
       "    </tr>\n",
       "    <tr>\n",
       "      <th>79</th>\n",
       "      <td>B</td>\n",
       "      <td>1.551571</td>\n",
       "    </tr>\n",
       "  </tbody>\n",
       "</table>\n",
       "<p>80 rows × 2 columns</p>\n",
       "</div>"
      ],
      "text/plain": [
       "   Category     value\n",
       "0         A  0.721694\n",
       "1         A  0.560243\n",
       "2         A  1.458357\n",
       "3         A  1.060423\n",
       "4         A  0.845233\n",
       "..      ...       ...\n",
       "75        B  2.549633\n",
       "76        B  2.361682\n",
       "77        B  1.152810\n",
       "78        B  2.196321\n",
       "79        B  1.551571\n",
       "\n",
       "[80 rows x 2 columns]"
      ]
     },
     "execution_count": 20,
     "metadata": {},
     "output_type": "execute_result"
    }
   ],
   "source": [
    "m_a, s_a, m_b, s_b = 1.0, 0.4, 2.0, 0.4\n",
    "n = 40\n",
    "\n",
    "a = np.random.normal(loc=m_a, scale=s_a, size = n)\n",
    "b = np.random.normal(loc=m_b, scale=s_b, size = n)\n",
    "\n",
    "df = pd.DataFrame({'Category':['A']*len(a) + ['B']*len(b), 'value': np.hstack([a,b])})\n",
    "df"
   ]
  },
  {
   "cell_type": "code",
   "execution_count": 21,
   "id": "9664bf13",
   "metadata": {},
   "outputs": [
    {
     "data": {
      "text/plain": [
       "<seaborn.axisgrid.FacetGrid at 0x23c0f378280>"
      ]
     },
     "execution_count": 21,
     "metadata": {},
     "output_type": "execute_result"
    },
    {
     "data": {
      "image/png": "[encoded data removed]",
      "text/plain": [
       "<Figure size 360x360 with 1 Axes>"
      ]
     },
     "metadata": {
      "needs_background": "light"
     },
     "output_type": "display_data"
    }
   ],
   "source": [
    "sns.catplot(x = 'Category', y='value', jitter = False ,data=df)"
   ]
  },
  {
   "cell_type": "code",
   "execution_count": 22,
   "id": "78fd05d2",
   "metadata": {},
   "outputs": [],
   "source": [
    "import statistics\n",
    "n1 = len(a)\n",
    "n2 = len(b)\n",
    "\n",
    "m1 = statistics.mean(a)\n",
    "m2 = statistics.mean(b)"
   ]
  },
  {
   "cell_type": "code",
   "execution_count": 23,
   "id": "533e99b4",
   "metadata": {},
   "outputs": [
    {
     "data": {
      "text/plain": [
       "0.39769134417424284"
      ]
     },
     "execution_count": 23,
     "metadata": {},
     "output_type": "execute_result"
    }
   ],
   "source": [
    "sdeva = (np.sum((a - m1)**2) / (n1 - 1))**0.5\n",
    "sdeva"
   ]
  },
  {
   "cell_type": "code",
   "execution_count": 24,
   "id": "8723507b",
   "metadata": {},
   "outputs": [
    {
     "data": {
      "text/plain": [
       "0.3904742047798474"
      ]
     },
     "execution_count": 24,
     "metadata": {},
     "output_type": "execute_result"
    }
   ],
   "source": [
    "sdevb = (np.sum((b - m2)**2) / (n1 - 1))**0.5\n",
    "sdevb"
   ]
  },
  {
   "cell_type": "code",
   "execution_count": 25,
   "id": "5052c3a1",
   "metadata": {},
   "outputs": [
    {
     "data": {
      "text/plain": [
       "-11.060546871418497"
      ]
     },
     "execution_count": 25,
     "metadata": {},
     "output_type": "execute_result"
    }
   ],
   "source": [
    "df = n1 + n2 - 2\n",
    "sp2 = ((n1 - 1) * sdeva**2 + (n2 - 1) * sdevb**2) / df\n",
    "t = (m1 - m2) / (np.sqrt(sp2) * np.sqrt(1.0/n1 + 1.0/n2))\n",
    "t"
   ]
  },
  {
   "cell_type": "code",
   "execution_count": null,
   "id": "e4792a31",
   "metadata": {},
   "outputs": [],
   "source": []
  },
  {
   "cell_type": "markdown",
   "id": "0946200a",
   "metadata": {},
   "source": [
    "[scipy stats ttest docs](https://docs.scipy.org/doc/scipy/reference/generated/scipy.stats.ttest_ind.html)"
   ]
  },
  {
   "cell_type": "code",
   "execution_count": 26,
   "id": "7736aa45",
   "metadata": {},
   "outputs": [],
   "source": [
    "import statsmodels.stats.weightstats as stat"
   ]
  },
  {
   "cell_type": "code",
   "execution_count": 27,
   "id": "a4104434",
   "metadata": {},
   "outputs": [
    {
     "name": "stdout",
     "output_type": "stream",
     "text": [
      "-11.060546871418497 1.2059266344609914e-17 78.0\n"
     ]
    }
   ],
   "source": [
    "t_ss, p_ss, d_sm = stat.ttest_ind(a,b)\n",
    "print(t_ss, p_ss, d_sm)\n"
   ]
  },
  {
   "cell_type": "code",
   "execution_count": 28,
   "id": "f5183661",
   "metadata": {},
   "outputs": [
    {
     "name": "stdout",
     "output_type": "stream",
     "text": [
      "-11.060546871418495 1.205926634461e-17\n"
     ]
    }
   ],
   "source": [
    "t_ss, p_ss= ss.ttest_ind(a,b)\n",
    "print(t_ss, p_ss)"
   ]
  },
  {
   "cell_type": "code",
   "execution_count": 29,
   "id": "f7342310",
   "metadata": {},
   "outputs": [
    {
     "data": {
      "text/plain": [
       "Generator(PCG64) at 0x23C0F4C1820"
      ]
     },
     "execution_count": 29,
     "metadata": {},
     "output_type": "execute_result"
    }
   ],
   "source": [
    "rng = np.random.default_rng()\n",
    "rng"
   ]
  },
  {
   "cell_type": "code",
   "execution_count": 32,
   "id": "5110f715",
   "metadata": {
    "scrolled": false
   },
   "outputs": [],
   "source": [
    "#https://pythonguides.com/python-scipy-stats-norm/\n",
    "rvs1 = stat.stats.norm.rvs(loc=5, scale=10, size=500, random_state=rng)"
   ]
  },
  {
   "cell_type": "code",
   "execution_count": 37,
   "id": "b74b915f",
   "metadata": {},
   "outputs": [
    {
     "data": {
      "image/png": "[encoded data removed]",
      "text/plain": [
       "<Figure size 432x288 with 1 Axes>"
      ]
     },
     "metadata": {
      "needs_background": "light"
     },
     "output_type": "display_data"
    }
   ],
   "source": [
    "# This is what rvs1 looks like. \n",
    "plt.plot(rvs1);"
   ]
  },
  {
   "cell_type": "code",
   "execution_count": 35,
   "id": "64b61081",
   "metadata": {},
   "outputs": [],
   "source": [
    "rvs2 = stat.stats.norm.rvs(loc=5, scale=10, size=500, random_state=rng)"
   ]
  },
  {
   "cell_type": "code",
   "execution_count": 38,
   "id": "0a547430",
   "metadata": {},
   "outputs": [
    {
     "data": {
      "image/png": "[encoded data removed]",
      "text/plain": [
       "<Figure size 432x288 with 1 Axes>"
      ]
     },
     "metadata": {
      "needs_background": "light"
     },
     "output_type": "display_data"
    }
   ],
   "source": [
    "plt.plot(rvs2);"
   ]
  },
  {
   "cell_type": "code",
   "execution_count": 39,
   "id": "7e5fbeaa",
   "metadata": {},
   "outputs": [
    {
     "data": {
      "text/plain": [
       "Ttest_indResult(statistic=0.45316159637613423, pvalue=0.65053088934824)"
      ]
     },
     "execution_count": 39,
     "metadata": {},
     "output_type": "execute_result"
    }
   ],
   "source": [
    "\n",
    "\n",
    "stat.stats.ttest_ind(rvs1, rvs2)"
   ]
  },
  {
   "cell_type": "code",
   "execution_count": null,
   "id": "538df5be",
   "metadata": {},
   "outputs": [],
   "source": []
  },
  {
   "cell_type": "code",
   "execution_count": null,
   "id": "45580a01",
   "metadata": {},
   "outputs": [],
   "source": []
  }
 ],
 "metadata": {
  "kernelspec": {
   "display_name": "base",
   "language": "python",
   "name": "python3"
  },
  "language_info": {
   "codemirror_mode": {
    "name": "ipython",
    "version": 3
   },
   "file_extension": ".py",
   "mimetype": "text/x-python",
   "name": "python",
   "nbconvert_exporter": "python",
   "pygments_lexer": "ipython3",
   "version": "3.8.8"
  },
  "vscode": {
   "interpreter": {
    "hash": "026d2eec43adaaf55ed4ec0c8a3ceda1934c95315a7f191539cd5a8121fcd129"
   }
  }
 },
 "nbformat": 4,
 "nbformat_minor": 5
}
